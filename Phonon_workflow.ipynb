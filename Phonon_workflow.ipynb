{
 "cells": [
  {
   "cell_type": "code",
   "execution_count": 2,
   "id": "018d824e",
   "metadata": {},
   "outputs": [],
   "source": [
    "from crystal_functions.file_readwrite import *\n",
    "from crystal_functions.convert import *\n",
    "import numpy as np\n",
    "from pymatgen.core.structure import Structure\n",
    "from pymatgen.symmetry.analyzer import *\n",
    "import phonopy\n",
    "from os.path import join\n",
    "import shutil\n",
    "\n",
    "import os\n",
    "from ase.visualize import view\n",
    "from pymatgen.io.ase import AseAtomsAdaptor"
   ]
  },
  {
   "cell_type": "markdown",
   "id": "fbd87ae3",
   "metadata": {},
   "source": [
    "## pymatgen interface"
   ]
  },
  {
   "cell_type": "code",
   "execution_count": 5,
   "id": "455674e3",
   "metadata": {},
   "outputs": [],
   "source": [
    "from pymatgen.io.phonopy import get_displaced_structures\n",
    "mno_gui_opt = Crystal_gui().read_cry_gui('./data/MnO.gui')\n",
    "mno_pmg_opt = cry_gui2pmg(mno_gui_opt)\n",
    "#mno_pmg.replace(2,1)\n",
    "#mno_pmg.add_spin_by_site([+4,0,-4,0])\n",
    "#mno_pmg.add_oxidation_state_by_site([+4,0,-4,0])\n",
    "\n",
    "supercell_matrix = np.identity(3)*6\n",
    "supercell_matrix = np.identity(3)*2\n",
    "\n",
    "disp_str = get_displaced_structures(mno_pmg_opt,atom_disp=0.01, supercell_matrix=supercell_matrix)\n",
    "mno_scel_atomic_numbers = disp_str[0].atomic_numbers"
   ]
  },
  {
   "cell_type": "code",
   "execution_count": 83,
   "id": "fa375817",
   "metadata": {},
   "outputs": [
    {
     "data": {
      "text/plain": [
       "Structure Summary\n",
       "Lattice\n",
       "    abc : 5.3151159200021905 5.315115920000355 5.315115920000355\n",
       " angles : 34.22791099990832 34.22791099998824 34.22791099998824\n",
       " volume : 42.36314758432684\n",
       "      A : 1.80606218932 0.0 4.99885953107\n",
       "      B : -0.903031094659 1.56409573676 4.99885953107\n",
       "      C : -0.903031094659 -1.56409573676 4.99885953107\n",
       "PeriodicSite: Mn (0.0000, 0.0000, 0.0000) [0.0000, 0.0000, 0.0000]\n",
       "PeriodicSite: O (-1.8061, -0.0000, -1.2497) [-0.7500, 0.2500, 0.2500]\n",
       "PeriodicSite: Mn (-0.9030, -1.5641, -2.4994) [-0.5000, -0.5000, 0.5000]\n",
       "PeriodicSite: O (-0.9030, -1.5641, 1.2497) [-0.2500, -0.2500, 0.7500]"
      ]
     },
     "execution_count": 83,
     "metadata": {},
     "output_type": "execute_result"
    }
   ],
   "source": [
    "mno_pmg_opt"
   ]
  },
  {
   "cell_type": "code",
   "execution_count": 39,
   "id": "cb6cf884",
   "metadata": {},
   "outputs": [],
   "source": [
    "new_lattice_2 = np.matmul(qq,mno_pmg_opt.lattice.matrix)"
   ]
  },
  {
   "cell_type": "code",
   "execution_count": 21,
   "id": "17c9527a",
   "metadata": {},
   "outputs": [],
   "source": [
    "new_lattice_1 = np.matmul(conv_matrix,mno_pmg_opt.lattice.matrix)"
   ]
  },
  {
   "cell_type": "code",
   "execution_count": 40,
   "id": "727df599",
   "metadata": {},
   "outputs": [
    {
     "data": {
      "text/plain": [
       "Structure Summary\n",
       "Lattice\n",
       "    abc : 4.392560947738861 4.39256094773121 4.39256094773121\n",
       " angles : 90.821316026348 90.8213160265301 90.8213160265301\n",
       " volume : 84.72629516865366\n",
       "      A : 3.612124378639 0.0 2.499429765535\n",
       "      B : -1.8060621893189999 3.12819147352 2.499429765535\n",
       "      C : -1.8060621893189999 -3.12819147352 2.499429765535"
      ]
     },
     "execution_count": 40,
     "metadata": {},
     "output_type": "execute_result"
    }
   ],
   "source": [
    "Structure(new_lattice_2,[],[])"
   ]
  },
  {
   "cell_type": "code",
   "execution_count": 31,
   "id": "c3c5cd3d",
   "metadata": {},
   "outputs": [
    {
     "data": {
      "text/plain": [
       "array([[ 3, -1, -1],\n",
       "       [-1,  3, -1],\n",
       "       [-1, -1,  3]])"
      ]
     },
     "execution_count": 31,
     "metadata": {},
     "output_type": "execute_result"
    }
   ],
   "source": [
    "conv_matrix = np.array([[-1, 1, 1],[1, -1, 1],[1,1,-1]])\n",
    "q = np.matmul(conv_matrix,conv_matrix)\n",
    "q"
   ]
  },
  {
   "cell_type": "code",
   "execution_count": 34,
   "id": "595e66e6",
   "metadata": {},
   "outputs": [
    {
     "data": {
      "text/plain": [
       "array([[ 1.5, -0.5, -0.5],\n",
       "       [-0.5,  1.5, -0.5],\n",
       "       [-0.5, -0.5,  1.5]])"
      ]
     },
     "execution_count": 34,
     "metadata": {},
     "output_type": "execute_result"
    }
   ],
   "source": [
    "qq = np.array([[1.5, -.5, -.5],[-.5, 1.5, -.5],[-.5,-.5,1.5]])\n",
    "qq"
   ]
  },
  {
   "cell_type": "code",
   "execution_count": 3,
   "id": "2e20b79f",
   "metadata": {},
   "outputs": [],
   "source": [
    "def get_cell( a, b, c, alpha, beta, gamma ):\n",
    "    toDeg = 180.0/np.pi\n",
    "    toRad = np.pi/180.0\n",
    "    cell = np.zeros( (3,3), dtype=np.float64 )\n",
    "    if alpha != 90.0:\n",
    "       cosa, cosb = np.cos( alpha*toRad ), np.cos( beta*toRad )\n",
    "    else:\n",
    "       cosa, cosb = 0.0, 0.0\n",
    "    if gamma != 90.0:\n",
    "       sing, cosg = np.sin( gamma*toRad ), np.cos( gamma*toRad )\n",
    "    else:\n",
    "       sing, cosg = 1.0, 0.0\n",
    "    cell[1][0], cell[2][0], cell[2][1] = 0.0, 0.0, 0.0\n",
    "    cell[0][0] = a\n",
    "    cell[1][0] = b*cosg\n",
    "    cell[1][1] = b*sing\n",
    "    cell[2][0] = c*cosb\n",
    "    cell[2][1] = c*(cosa - cosg*cosb)/sing\n",
    "    trm1 = cell[2][1]/c\n",
    "    cell[2][2] = c*np.sqrt( 1.0 - np.power(cosb,2) - np.power(trm1, 2) )\n",
    "    return cell"
   ]
  },
  {
   "cell_type": "code",
   "execution_count": 4,
   "id": "8dc7f791",
   "metadata": {},
   "outputs": [
    {
     "ename": "NameError",
     "evalue": "name 'mno_pmg_opt' is not defined",
     "output_type": "error",
     "traceback": [
      "\u001b[0;31m---------------------------------------------------------------------------\u001b[0m",
      "\u001b[0;31mNameError\u001b[0m                                 Traceback (most recent call last)",
      "\u001b[0;32m/var/folders/f2/8kc7y9697m59bwltxjd42y300000gn/T/ipykernel_20848/1636889498.py\u001b[0m in \u001b[0;36m<module>\u001b[0;34m\u001b[0m\n\u001b[0;32m----> 1\u001b[0;31m \u001b[0ma\u001b[0m\u001b[0;34m,\u001b[0m\u001b[0mb\u001b[0m\u001b[0;34m,\u001b[0m\u001b[0mc\u001b[0m \u001b[0;34m=\u001b[0m \u001b[0mmno_pmg_opt\u001b[0m\u001b[0;34m.\u001b[0m\u001b[0mlattice\u001b[0m\u001b[0;34m.\u001b[0m\u001b[0mabc\u001b[0m\u001b[0;34m\u001b[0m\u001b[0;34m\u001b[0m\u001b[0m\n\u001b[0m\u001b[1;32m      2\u001b[0m \u001b[0malpha\u001b[0m\u001b[0;34m,\u001b[0m \u001b[0mbeta\u001b[0m\u001b[0;34m,\u001b[0m \u001b[0mgamma\u001b[0m \u001b[0;34m=\u001b[0m \u001b[0mmno_pmg_opt\u001b[0m\u001b[0;34m.\u001b[0m\u001b[0mlattice\u001b[0m\u001b[0;34m.\u001b[0m\u001b[0mangles\u001b[0m\u001b[0;34m\u001b[0m\u001b[0;34m\u001b[0m\u001b[0m\n",
      "\u001b[0;31mNameError\u001b[0m: name 'mno_pmg_opt' is not defined"
     ]
    }
   ],
   "source": [
    "a,b,c = mno_pmg_opt.lattice.abc\n",
    "alpha, beta, gamma = mno_pmg_opt.lattice.angles"
   ]
  },
  {
   "cell_type": "code",
   "execution_count": 298,
   "id": "3250b95d",
   "metadata": {},
   "outputs": [
    {
     "data": {
      "text/plain": [
       "Structure Summary\n",
       "Lattice\n",
       "    abc : 4.392560947738861 4.39256094773121 4.39256094773121\n",
       " angles : 90.821316026348 90.8213160265301 90.8213160265301\n",
       " volume : 84.72629516865366\n",
       "      A : 3.612124378639 0.0 2.499429765535\n",
       "      B : -1.8060621893189999 3.12819147352 2.499429765535\n",
       "      C : -1.8060621893189999 -3.12819147352 2.499429765535"
      ]
     },
     "metadata": {},
     "output_type": "display_data"
    },
    {
     "data": {
      "text/plain": [
       "Structure Summary\n",
       "Lattice\n",
       "    abc : 14.392560947738867 14.39256094773121 14.39256094773121\n",
       " angles : 91.82131602634696 91.82131602653064 91.82131602653064\n",
       " volume : 2976.742056042601\n",
       "      A : 11.936762396532139 0.0 8.041113985208405\n",
       "      B : -5.968381198271569 10.337539474313758 8.041113985218765\n",
       "      C : -5.968381198271569 -10.337539474313758 8.041113985218765"
      ]
     },
     "execution_count": 298,
     "metadata": {},
     "output_type": "execute_result"
    }
   ],
   "source": [
    "# ANGLE WORKS (DO NOT MODIFY!!!)\n",
    "delta_angle = 1.\n",
    "shift = 10.\n",
    "to_rad = np.pi/180\n",
    "to_deg = 180/np.pi\n",
    "\n",
    "conv_matrix = np.array([[1.5, -.5, -.5],[-.5, 1.5, -.5],[-.5,-.5,1.5]])\n",
    "conv_matrix_inv = np.linalg.inv(conv_matrix)\n",
    "cubic_lattice = np.matmul(conv_matrix,mno_pmg_opt.lattice.matrix)\n",
    "\n",
    "\n",
    "\n",
    "A = cubic_lattice[0,:]\n",
    "B = cubic_lattice[1,:]\n",
    "C = cubic_lattice[2,:]\n",
    "\n",
    "len_A = np.linalg.norm(cubic_lattice[0,:])\n",
    "len_B = np.linalg.norm(cubic_lattice[1,:])\n",
    "len_C = np.linalg.norm(cubic_lattice[2,:])\n",
    "\n",
    "A_norm = A/len_A\n",
    "B_norm = B/len_B\n",
    "C_norm = C/len_C\n",
    "\n",
    "alpha = np.arccos(np.dot(B_norm,C_norm))*(180/np.pi)\n",
    "beta = np.arccos(np.dot(A_norm,C_norm))*(180/np.pi)\n",
    "gamma = np.arccos(np.dot(A_norm,B_norm))*(180/np.pi)\n",
    "\n",
    "###\n",
    "cubic_lattice_new = np.zeros((3,3))\n",
    "cubic_lattice_new[0,:] = (cubic_lattice[0,:]/len_A) * (len_A+shift)\n",
    "cubic_lattice_new[1,:] = (cubic_lattice[1,:]/len_B) * (len_B+shift)\n",
    "cubic_lattice_new[2,:] = (cubic_lattice[2,:]/len_C) * (len_C+shift)\n",
    "\n",
    "prim_lattice_new = np.matmul(conv_matrix_inv,cubic_lattice_new)\n",
    "\n",
    "A_prim_new = prim_lattice_new[0,:]\n",
    "B_prim_new = prim_lattice_new[1,:]\n",
    "C_prim_new = prim_lattice_new[2,:]\n",
    "\n",
    "len_A_prim = np.linalg.norm(A_prim_new)\n",
    "len_B_prim = np.linalg.norm(B_prim_new)\n",
    "len_C_prim = np.linalg.norm(C_prim_new)\n",
    "\n",
    "\n",
    "vector_sum = A_norm + B_norm + C_norm\n",
    "len_vector_sum = np.linalg.norm(vector_sum)\n",
    "\n",
    "vector_sum_norm = vector_sum/len_vector_sum\n",
    "\n",
    "D_a = np.cross(np.cross(A_norm,vector_sum_norm),A_norm)\n",
    "D_b = np.cross(np.cross(B_norm,vector_sum_norm),B_norm)\n",
    "D_c = np.cross(np.cross(C_norm,vector_sum_norm),C_norm)\n",
    "\n",
    "len_D_a = np.linalg.norm(D_a)\n",
    "len_D_b = np.linalg.norm(D_b)\n",
    "len_D_c = np.linalg.norm(D_c)\n",
    "\n",
    "D_a_norm = D_a/len_D_a\n",
    "D_b_norm = D_b/len_D_b\n",
    "D_c_norm = D_c/len_D_c\n",
    "\n",
    "alpha_t = np.arccos(np.dot(A_norm,vector_sum_norm))*(180/np.pi)\n",
    "beta_t = np.arccos(np.dot(B_norm,vector_sum_norm))*(180/np.pi)\n",
    "gamma_t = np.arccos(np.dot(C_norm,vector_sum_norm))*(180/np.pi)\n",
    "\n",
    "len_vector_sum_p_tmp  = np.sqrt((3+6*(np.cos((alpha+delta_angle)*to_rad))))\n",
    "len_vector_sum_p = np.sqrt(3 + 2*(np.cos((alpha+delta_angle)*to_rad) +\n",
    "                                    np.cos((beta+delta_angle)*to_rad) +\n",
    "                                    np.cos((gamma+delta_angle)*to_rad)))\n",
    "\n",
    "\n",
    "alpha_p = (np.arccos((  1+ np.cos((beta+delta_angle)*to_rad) + np.cos((gamma+delta_angle)*to_rad) ) /len_vector_sum_p))*to_deg\n",
    "beta_p = (np.arccos((  1+ np.cos((alpha+delta_angle)*to_rad) + np.cos((gamma+delta_angle)*to_rad) ) /len_vector_sum_p))*to_deg\n",
    "gamma_p = (np.arccos((  1+ np.cos((alpha+delta_angle)*to_rad) + np.cos((beta+delta_angle)*to_rad) ) /len_vector_sum_p))*to_deg\n",
    "\n",
    "\n",
    "delta_alpha_t = (alpha_t-alpha_p)*to_rad\n",
    "delta_beta_t = (beta_t-beta_p)*to_rad\n",
    "delta_gamma_t = (gamma_t-gamma_p)*to_rad\n",
    "\n",
    "#print(alpha,alpha_t,alpha_p,delta_alpha_t)\n",
    "\n",
    "A1 = (np.cos(delta_alpha_t)*A_norm + np.sin(delta_alpha_t)*D_a_norm) #* len_A\n",
    "B1 = (np.cos(delta_beta_t)*B_norm + np.sin(delta_beta_t)*D_b_norm) #* len_B\n",
    "C1 = (np.cos(delta_gamma_t)*C_norm + np.sin(delta_gamma_t)*D_c_norm) #* len_C\n",
    "\n",
    "new_lattice_conv = np.array([A1,B1,C1])\n",
    "\n",
    "new_lattice_conv[0,:] = new_lattice_conv[0,:] *(len_A+shift)\n",
    "new_lattice_conv[1,:] = new_lattice_conv[1,:] *(len_B+shift)\n",
    "new_lattice_conv[2,:] = new_lattice_conv[2,:] *(len_C+shift)\n",
    "\n",
    "new_lattice_prim = np.matmul(conv_matrix_inv,new_lattice_conv)\n",
    "\n",
    "\n",
    "display(Structure(np.matmul(conv_matrix,mno_pmg_opt.lattice.matrix),[],[]))\n",
    "Structure(np.matmul(conv_matrix,new_lattice_prim),[],[])\n"
   ]
  },
  {
   "cell_type": "code",
   "execution_count": null,
   "id": "491cbd55",
   "metadata": {},
   "outputs": [],
   "source": []
  },
  {
   "cell_type": "code",
   "execution_count": null,
   "id": "63c79952",
   "metadata": {},
   "outputs": [],
   "source": []
  },
  {
   "cell_type": "code",
   "execution_count": null,
   "id": "7b3fcb9d",
   "metadata": {},
   "outputs": [],
   "source": [
    "Str"
   ]
  },
  {
   "cell_type": "code",
   "execution_count": 250,
   "id": "4dba9696",
   "metadata": {},
   "outputs": [
    {
     "name": "stdout",
     "output_type": "stream",
     "text": [
      "[[ 3.61212438  0.          2.49942977]\n",
      " [-1.80606219  3.12819147  2.49942977]\n",
      " [-1.80606219 -3.12819147  2.49942977]]\n",
      "5.315115920002191\n",
      "[[ 3.49514025  0.          2.50980357]\n",
      " [-1.74757012  3.02688024  2.50980357]\n",
      " [-1.74757012 -3.02688024  2.50980357]]\n"
     ]
    },
    {
     "data": {
      "text/plain": [
       "Structure Summary\n",
       "Lattice\n",
       "    abc : 4.302919860799546 4.30291986079296 4.30291986079296\n",
       " angles : 89.40858791294572 89.40858791308888 89.40858791308888\n",
       " volume : 79.65642917248634\n",
       "      A : 3.4951402478580524 0.0 2.5098035732435178\n",
       "      B : -1.7475701239312018 3.026880244427586 2.509803573239066\n",
       "      C : -1.7475701239312018 -3.026880244427586 2.509803573239066"
      ]
     },
     "execution_count": 250,
     "metadata": {},
     "output_type": "execute_result"
    }
   ],
   "source": [
    "angle = 1.\n",
    "shift = 0.\n",
    "to_rad = np.pi/180\n",
    "angle = angle*to_rad\n",
    "\n",
    "#CELL\n",
    "\n",
    "#Conversion matrices\n",
    "conv_matrix = np.array([[1.5, -.5, -.5],[-.5, 1.5, -.5],[-.5,-.5,1.5]])\n",
    "conv_matrix_inv = np.linalg.inv(conv_matrix)\n",
    "cubic_lattice = np.matmul(conv_matrix,mno_pmg_opt.lattice.matrix)\n",
    "\n",
    "#New cubic lattice\n",
    "\n",
    "len_A = np.linalg.norm(cubic_lattice[0,:])\n",
    "len_B = np.linalg.norm(cubic_lattice[1,:])\n",
    "len_C = np.linalg.norm(cubic_lattice[2,:])\n",
    "\n",
    "cubic_lattice[0,:] = (cubic_lattice[0,:]/len_A) * (len_A+shift)\n",
    "cubic_lattice[1,:] = (cubic_lattice[1,:]/len_B) * (len_B+shift)\n",
    "cubic_lattice[2,:] = (cubic_lattice[2,:]/len_C) * (len_C+shift)\n",
    "print(cubic_lattice)\n",
    "\n",
    "#New prim lattice\n",
    "prim_lattice = np.matmul(conv_matrix_inv,cubic_lattice)\n",
    "\n",
    "A_prim = prim_lattice[0,:]\n",
    "B_prim = prim_lattice[1,:]\n",
    "C_prim = prim_lattice[2,:]\n",
    "\n",
    "len_A_prim = np.linalg.norm(A_prim)\n",
    "len_B_prim = np.linalg.norm(B_prim)\n",
    "len_C_prim = np.linalg.norm(C_prim)\n",
    "\n",
    "\n",
    "A = cubic_lattice[0,:]\n",
    "B = cubic_lattice[1,:]\n",
    "C = cubic_lattice[2,:]\n",
    "\n",
    "len_A = np.linalg.norm(A)\n",
    "len_B = np.linalg.norm(B)\n",
    "len_C = np.linalg.norm(C)\n",
    "\n",
    "\n",
    "A_norm = A/len_A\n",
    "B_norm = B/len_B\n",
    "C_norm = C/len_C\n",
    "\n",
    "alpha = np.arccos(np.dot(B_norm,C_norm))*(180/np.pi)\n",
    "beta = np.arccos(np.dot(A_norm,C_norm))*(180/np.pi)\n",
    "gamma = np.arccos(np.dot(A_norm,B_norm))*(180/np.pi)\n",
    "\n",
    "vector_sum = A_norm+B_norm+C_norm\n",
    "\n",
    "len_vector_sum = np.linalg.norm(vector_sum)\n",
    "vector_sum_norm = vector_sum/len_vector_sum\n",
    "\n",
    "D_a = np.cross(np.cross(A_norm,vector_sum_norm),A_norm)\n",
    "D_b = np.cross(np.cross(B_norm,vector_sum_norm),B_norm)\n",
    "D_c = np.cross(np.cross(C_norm,vector_sum_norm),C_norm)\n",
    "\n",
    "len_D_a = np.linalg.norm(D_a)\n",
    "len_D_b = np.linalg.norm(D_b)\n",
    "len_D_c = np.linalg.norm(D_c)\n",
    "\n",
    "D_a_norm = D_a/len_D_a\n",
    "D_b_norm = D_b/len_D_b\n",
    "D_c_norm = D_c/len_D_c\n",
    "\n",
    "alpha_t = np.arccos(np.dot(A_norm,vector_sum_norm))*(180/np.pi)\n",
    "beta_t = np.arccos(np.dot(B_norm,vector_sum_norm))*(180/np.pi)\n",
    "gamma_t = np.arccos(np.dot(C_norm,vector_sum_norm))*(180/np.pi)\n",
    "\n",
    "len_vector_sum_p = np.sqrt(3 + 2*(np.cos((alpha+delta_angle)*to_rad) +\n",
    "                                    np.cos((beta+delta_angle)*to_rad) +\n",
    "                                    np.cos((gamma+delta_angle)*to_rad)))\n",
    "\n",
    "alpha_p = (np.arccos((  1+ np.cos((beta+delta_angle)*to_rad) + np.cos((gamma+delta_angle)*to_rad) ) /len_vector_sum_p))*to_deg\n",
    "beta_p = (np.arccos((  1+ np.cos((alpha+delta_angle)*to_rad) + np.cos((gamma+delta_angle)*to_rad) ) /len_vector_sum_p))*to_deg\n",
    "gamma_p = (np.arccos((  1+ np.cos((alpha+delta_angle)*to_rad) + np.cos((beta+delta_angle)*to_rad) ) /len_vector_sum_p))*to_deg\n",
    "\n",
    "delta_alpha_t = (alpha_t-alpha_p)*to_rad\n",
    "delta_beta_t = (beta_t-beta_p)*to_rad\n",
    "delta_gamma_t = (gamma_t-gamma_p)*to_rad\n",
    "\n",
    "A1 = (np.cos(angle)*A_norm + np.sin(angle)*D_a_norm) #* len_A\n",
    "B1 = (np.cos(angle)*B_norm + np.sin(angle)*D_b_norm) #* len_B\n",
    "C1 = (np.cos(angle)*C_norm + np.sin(angle)*D_c_norm) #* len_C\n",
    "\n",
    "new_lattice_conv = np.array([A1,B1,C1])\n",
    "\n",
    "\n",
    "new_lattice_prim = np.matmul(conv_matrix_inv,new_lattice_conv)\n",
    "\n",
    "len_A_prim_new = np.linalg.norm(new_lattice_prim[0,:])\n",
    "len_B_prim_new = np.linalg.norm(new_lattice_prim[1,:])\n",
    "len_C_prim_new = np.linalg.norm(new_lattice_prim[2,:])\n",
    "\n",
    "\n",
    "new_lattice_prim[0,:] = (new_lattice_prim[0,:]/ len_A_prim_new) * (len_A_prim)\n",
    "new_lattice_prim[1,:] = (new_lattice_prim[1,:]/len_B_prim_new) * (len_B_prim)\n",
    "new_lattice_prim[2,:] = (new_lattice_prim[2,:]/len_C_prim_new)  *(len_C_prim)\n",
    "\n",
    "print(np.linalg.norm(new_lattice_prim[0,:]))\n",
    "print(np.matmul(conv_matrix,new_lattice_prim))\n",
    "aa = Structure(new_lattice,mno_pmg_opt.atomic_numbers,mno_pmg_opt.frac_coords)\n",
    "Structure(np.matmul(conv_matrix,new_lattice_prim),[],[])"
   ]
  },
  {
   "cell_type": "code",
   "execution_count": 252,
   "id": "b645bdb5",
   "metadata": {},
   "outputs": [
    {
     "data": {
      "text/plain": [
       "Structure Summary\n",
       "Lattice\n",
       "    abc : 4.392560947738861 4.39256094773121 4.39256094773121\n",
       " angles : 90.821316026348 90.8213160265301 90.8213160265301\n",
       " volume : 84.72629516865366\n",
       "      A : 3.612124378639 0.0 2.499429765535\n",
       "      B : -1.8060621893189999 3.12819147352 2.499429765535\n",
       "      C : -1.8060621893189999 -3.12819147352 2.499429765535"
      ]
     },
     "execution_count": 252,
     "metadata": {},
     "output_type": "execute_result"
    }
   ],
   "source": [
    "Structure(np.matmul(conv_matrix,mno_pmg_opt.lattice.matrix),[],[])"
   ]
  },
  {
   "cell_type": "code",
   "execution_count": 33,
   "id": "5717425a",
   "metadata": {},
   "outputs": [
    {
     "name": "stdout",
     "output_type": "stream",
     "text": [
      "1.2352346992158365\n",
      "5.31511592000219\n"
     ]
    },
    {
     "data": {
      "text/plain": [
       "Structure Summary\n",
       "Lattice\n",
       "    abc : 4.302919860799517 4.302919860792974 4.302919860792974\n",
       " angles : 89.40858791294681 89.40858791308834 89.40858791308834\n",
       " volume : 79.65642917248636\n",
       "      A : 3.4951402478580436 0.0 2.5098035732434814\n",
       "      B : -1.747570123931143 3.026880244427625 2.509803573239085\n",
       "      C : -1.747570123931143 -3.026880244427625 2.509803573239085"
      ]
     },
     "execution_count": 33,
     "metadata": {},
     "output_type": "execute_result"
    }
   ],
   "source": [
    "angle = 1.\n",
    "shift = 0.\n",
    "to_rad = np.pi/180\n",
    "angle = angle*to_rad\n",
    "\n",
    "#CELL\n",
    "conv_matrix = np.array([[1.5, -.5, -.5],[-.5, 1.5, -.5],[-.5,-.5,1.5]])\n",
    "conv_matrix_inv = np.linalg.inv(conv_matrix)\n",
    "cubic_lattice = np.matmul(conv_matrix,mno_pmg_opt.lattice.matrix)\n",
    "\n",
    "#Original cubic lattice\n",
    "A = cubic_lattice[0,:]\n",
    "B = cubic_lattice[1,:]\n",
    "C = cubic_lattice[2,:]\n",
    "\n",
    "len_A = np.linalg.norm(A)\n",
    "len_B = np.linalg.norm(B)\n",
    "len_C = np.linalg.norm(C)\n",
    "\n",
    "A_norm = A/len_A\n",
    "B_norm = B/len_B\n",
    "C_norm = C/len_C\n",
    "\n",
    "#New cubic lattice\n",
    "cubic_lattice_new = np.zeros((3,3))\n",
    "\n",
    "cubic_lattice_new[0,:] = (cubic_lattice[0,:]/len_A) * (len_A+shift)\n",
    "cubic_lattice_new[1,:] = (cubic_lattice[1,:]/len_B) * (len_B+shift)\n",
    "cubic_lattice_new[2,:] = (cubic_lattice[2,:]/len_C) * (len_C+shift)\n",
    "\n",
    "prim_lattice_new = np.matmul(conv_matrix_inv,cubic_lattice_new)\n",
    "\n",
    "A_prim_new = prim_lattice_new[0,:]\n",
    "B_prim_new = prim_lattice_new[1,:]\n",
    "C_prim_new = prim_lattice_new[2,:]\n",
    "\n",
    "#New primitive vector lengths\n",
    "len_A_prim = np.linalg.norm(A_prim_new)\n",
    "len_B_prim = np.linalg.norm(B_prim_new)\n",
    "len_C_prim = np.linalg.norm(C_prim_new)\n",
    "\n",
    "#Central direction\n",
    "vector_sum = A+B+C\n",
    "\n",
    "len_vector_sum = np.linalg.norm(vector_sum)\n",
    "vector_sum_norm = vector_sum/len_vector_sum\n",
    "\n",
    "D_a = np.cross(np.cross(A_norm,vector_sum_norm),A_norm)\n",
    "D_b = np.cross(np.cross(B_norm,vector_sum_norm),B_norm)\n",
    "D_c = np.cross(np.cross(C_norm,vector_sum_norm),C_norm)\n",
    "\n",
    "len_D_a = np.linalg.norm(D_a)\n",
    "len_D_b = np.linalg.norm(D_b)\n",
    "len_D_c = np.linalg.norm(D_c)\n",
    "\n",
    "D_a_norm = D_a/len_D_a\n",
    "D_b_norm = D_b/len_D_b\n",
    "D_c_norm = D_c/len_D_c\n",
    "\n",
    "A1 = (np.cos(angle)*A_norm + np.sin(angle)*D_a_norm) #* len_A\n",
    "B1 = (np.cos(angle)*B_norm + np.sin(angle)*D_b_norm) #* len_B\n",
    "C1 = (np.cos(angle)*C_norm + np.sin(angle)*D_c_norm) #* len_C\n",
    "\n",
    "#Unitary\n",
    "new_lattice_conv = np.array([A1,B1,C1])\n",
    "\n",
    "#Unitary\n",
    "new_lattice = np.matmul(conv_matrix_inv,new_lattice_conv)\n",
    "print(np.linalg.norm(new_lattice[0,:]))\n",
    "\n",
    "new_lattice[0,:] = (new_lattice[0,:]/ np.linalg.norm(new_lattice[0,:])) * (len_A_prim)\n",
    "new_lattice[1,:] = (new_lattice[1,:]/np.linalg.norm(new_lattice[1,:])) * (len_B_prim)\n",
    "new_lattice[2,:] = (new_lattice[2,:]/np.linalg.norm(new_lattice[2,:]))  *(len_C_prim)\n",
    "print(np.linalg.norm(new_lattice[0,:]))\n",
    "\n",
    "aa = Structure(new_lattice,mno_pmg_opt.atomic_numbers,mno_pmg_opt.frac_coords)\n",
    "Structure(np.matmul(conv_matrix,aa.lattice.matrix),[],[])"
   ]
  },
  {
   "cell_type": "code",
   "execution_count": 126,
   "id": "c7a47a47",
   "metadata": {},
   "outputs": [
    {
     "data": {
      "text/plain": [
       "Structure Summary\n",
       "Lattice\n",
       "    abc : 4.392560947738861 4.39256094773121 4.39256094773121\n",
       " angles : 90.821316026348 90.8213160265301 90.8213160265301\n",
       " volume : 84.72629516865366\n",
       "      A : 3.612124378639 0.0 2.499429765535\n",
       "      B : -1.8060621893189999 3.12819147352 2.499429765535\n",
       "      C : -1.8060621893189999 -3.12819147352 2.499429765535"
      ]
     },
     "execution_count": 126,
     "metadata": {},
     "output_type": "execute_result"
    }
   ],
   "source": [
    "Structure(np.matmul(conv_matrix,mno_pmg_opt.lattice.matrix),[],[])"
   ]
  },
  {
   "cell_type": "code",
   "execution_count": 83,
   "id": "addf7ab5",
   "metadata": {},
   "outputs": [
    {
     "data": {
      "text/plain": [
       "array([1.80606219, 0.        , 4.99885953])"
      ]
     },
     "execution_count": 83,
     "metadata": {},
     "output_type": "execute_result"
    }
   ],
   "source": [
    "A"
   ]
  },
  {
   "cell_type": "code",
   "execution_count": 58,
   "id": "cbd8639c",
   "metadata": {},
   "outputs": [
    {
     "data": {
      "text/plain": [
       "array([[ 1.80606219,  0.        ,  4.99885953],\n",
       "       [-0.90303109,  1.56409574,  4.99885953],\n",
       "       [-0.90303109, -1.56409574,  4.99885953]])"
      ]
     },
     "execution_count": 58,
     "metadata": {},
     "output_type": "execute_result"
    }
   ],
   "source": [
    "mno_pmg_opt.lattice.matrix"
   ]
  },
  {
   "cell_type": "code",
   "execution_count": 14,
   "id": "9229ed2e",
   "metadata": {},
   "outputs": [
    {
     "name": "stdout",
     "output_type": "stream",
     "text": [
      "0 0 ./isa/MnO/super_6/0_0\n",
      "1 0 ./isa/MnO/super_6/1_0\n"
     ]
    }
   ],
   "source": [
    "mno_gui_opt = Crystal_gui().read_cry_gui('./isa/mno/MnO.gui')\n",
    "mno_pmg_opt = cry_gui2pmg(mno_gui_opt)\n",
    "\n",
    "a,b,c = mno_pmg_opt.lattice.abc\n",
    "alpha, beta, gamma = mno_pmg_opt.lattice.angles \n",
    "\n",
    "directory_opt = './isa/MnO/super_6/'\n",
    "\n",
    "#for i,disp in enumerate([0.,0.03,0.3]):\n",
    "for i,disp in enumerate([0.,0.3]):\n",
    "    \n",
    "    #for j, angle in enumerate([0.,0.15,1.5]):\n",
    "    for j, angle in enumerate([0.]):\n",
    "        \n",
    "        lattice = mno_pmg_opt.lattice.matrix + mno_pmg_opt.lattice.matrix*disp\n",
    "        #lattice = Lattice.from_parameters(a+disp, b+disp, c+disp, alpha+angle, beta+angle, gamma+angle)\n",
    "        \n",
    "        #lattice = mno_pmg_opt.lattice.matrix\n",
    "        \n",
    "        mno_pmg = Structure(lattice,mno_pmg_opt.atomic_numbers,mno_pmg_opt.frac_coords)\n",
    "        #mno_pmg_symm = SpacegroupAnalyzer(mno_pmg_tmp).get_symmetrized_structure()\n",
    "        #mno_pmg = Structure(mno_pmg_symm.lattice.matrix,mno_pmg_opt.atomic_numbers,mno_pmg_symm.frac_coords)\n",
    "        #display(mno_pmg_symm.lattice.matrix,mno_pmg)\n",
    "        #print(mno_pmg,'\\n',Structure(mno_pmg_symm.lattice.matrix,mno_pmg_opt.atomic_numbers,mno_pmg_symm.frac_coords))\n",
    "        \n",
    "        disp_str = get_displaced_structures(mno_pmg,atom_disp=0.01, supercell_matrix=supercell_matrix)\n",
    "        mno_scel_atomic_numbers = disp_str[0].atomic_numbers\n",
    "\n",
    "        '''norm = np.array([np.linalg.norm(mno_pmg.lattice.matrix[:,:],axis=1)]*3)\n",
    "        lattice_norm = mno_pmg.lattice.matrix/norm\n",
    "        new_lattice = lattice_norm-np.array([np.sum(lattice_norm,axis=0)*angle]*3)\n",
    "        new_lattice_norm = new_lattice/np.array([np.linalg.norm(new_lattice[:,:],axis=1)]*3)\n",
    "        new_lattice = new_lattice_norm*norm\n",
    "        Structure(new_lattice,mno_pmg_opt.atomic_numbers,mno_pmg_opt.frac_coords)'''\n",
    "        \n",
    "        \n",
    "    \n",
    "        directory = './isa/MnO/super_6/%s_%s'%(i,j)\n",
    "        print(i,j,directory)\n",
    "        try: \n",
    "            os.mkdir(directory) \n",
    "        except OSError as error: \n",
    "            pass  \n",
    "            \n",
    "        range_scel = int(disp_str[0].num_sites/mno_pmg.num_sites)\n",
    "        for m in range(len(disp_str)):\n",
    "            for j in range(range_scel):\n",
    "                disp_str[m].replace(j,1)\n",
    "\n",
    "        spin = []\n",
    "        for n in np.where(np.array(disp_str[0].atomic_numbers)==1)[0]:\n",
    "            spin.extend(['%s +1'%(n+1)])\n",
    "        for n in np.where(np.array(disp_str[0].atomic_numbers)==25)[0]:\n",
    "            spin.extend(['%s -1'%(n+1)])\n",
    "\n",
    "        n_spin = len(np.where(np.array(disp_str[0].atomic_numbers)==1)[0])+\\\n",
    "            len(np.where(np.array(disp_str[0].atomic_numbers)==25)[0])\n",
    "        spin = ' '.join(spin)       \n",
    "\n",
    "        mno_scel = cry_pmg2gui(disp_str[0],symmetry=True)\n",
    "        mno_scel.atom_number = mno_scel_atomic_numbers\n",
    "\n",
    "        write_crystal_gui(join(directory,'supercell_symm.gui'),mno_scel)\n",
    "\n",
    "        mno_scel = cry_pmg2gui(disp_str[0],symmetry=False)\n",
    "        mno_scel.atom_number = mno_scel_atomic_numbers\n",
    "\n",
    "        write_crystal_gui(join(directory,'supercell.gui'),mno_scel)\n",
    "\n",
    "\n",
    "        mno_scel_inp = Crystal_input().from_file(join(directory_opt,'MnO.d12'))\n",
    "\n",
    "\n",
    "        #INPUT FILES\n",
    "        mno_scel_inp = Crystal_input().from_file(join(directory_opt,'MnO.d12'))\n",
    "        mno_scel_inp.scf_block.insert(-1,'ATOMSPIN\\n')\n",
    "        mno_scel_inp.scf_block.insert(-1,'%s\\n'%n_spin)\n",
    "        mno_scel_inp.scf_block.insert(-1,spin+'\\n')\n",
    "        mno_scel_inp.scf_block.insert(-1,'SAVEPRED\\n')\n",
    "\n",
    "        write_crystal_input(join(directory,'supercell_symm.d12'),mno_scel_inp)\n",
    "        \n",
    "        mno_scel_inp.scf_block.remove('SAVEPRED\\n')\n",
    "        \n",
    "        mno_scel_inp.geom_block.insert(-1,'SYMMREMO\\n')\n",
    "        mno_scel_inp.scf_block.insert(-1,'GUESSYMP\\n')\n",
    "        mno_scel_inp.scf_block.insert(-1,'MPP\\n')\n",
    "\n",
    "        write_crystal_input(join(directory,'supercell.d12'),mno_scel_inp)\n",
    "        \n",
    "        mno_scel_inp.scf_block.remove('GUESSYMP\\n')\n",
    "        mno_scel_inp.scf_block.insert(-1,'GUESSP\\n')\n",
    "        \n",
    "        #Displacements\n",
    "        for k,displ in enumerate(disp_str[1:]):   \n",
    "            mno_scel = cry_pmg2gui(displ,symmetry=False)\n",
    "            #mno_scel.atom_number = mno_scel_atomic_numbers\n",
    "\n",
    "            write_crystal_gui(join(directory,'supercell-00%s.gui'%(k+1)),mno_scel,symm=False)\n",
    "            write_crystal_input(join(directory,'supercell-00%s.d12'%(k+1)),mno_scel_inp)"
   ]
  },
  {
   "cell_type": "code",
   "execution_count": 8,
   "id": "86841825",
   "metadata": {},
   "outputs": [
    {
     "data": {
      "text/plain": [
       "Structure Summary\n",
       "Lattice\n",
       "    abc : 13.819301392005695 13.819301392000924 13.819301392000924\n",
       " angles : 34.22791099990834 34.227910999988225 34.227910999988225\n",
       " volume : 744.5746819421284\n",
       "      A : 4.695761692232 0.0 12.997034780782\n",
       "      B : -2.3478808461133998 4.066648915576 12.997034780782\n",
       "      C : -2.3478808461133998 -4.066648915576 12.997034780782\n",
       "PeriodicSite: H (0.0000, 0.0000, 0.0000) [0.0000, 0.0000, 0.0000]\n",
       "PeriodicSite: H (2.3479, 0.0000, 6.4985) [0.5000, 0.0000, 0.0000]\n",
       "PeriodicSite: H (-1.1739, 2.0333, 6.4985) [0.0000, 0.5000, 0.0000]\n",
       "PeriodicSite: H (1.1739, 2.0333, 12.9970) [0.5000, 0.5000, 0.0000]\n",
       "PeriodicSite: H (-1.1739, -2.0333, 6.4985) [0.0000, 0.0000, 0.5000]\n",
       "PeriodicSite: H (1.1739, -2.0333, 12.9970) [0.5000, 0.0000, 0.5000]\n",
       "PeriodicSite: H (-2.3479, 0.0000, 12.9970) [0.0000, 0.5000, 0.5000]\n",
       "PeriodicSite: H (0.0000, 0.0000, 19.4956) [0.5000, 0.5000, 0.5000]\n",
       "PeriodicSite: O (2.3479, -0.0000, 11.3724) [0.6250, 0.1250, 0.1250]\n",
       "PeriodicSite: O (0.0000, -0.0000, 4.8739) [0.1250, 0.1250, 0.1250]\n",
       "PeriodicSite: O (1.1739, 2.0333, 17.8709) [0.6250, 0.6250, 0.1250]\n",
       "PeriodicSite: O (-1.1739, 2.0333, 11.3724) [0.1250, 0.6250, 0.1250]\n",
       "PeriodicSite: O (1.1739, -2.0333, 17.8709) [0.6250, 0.1250, 0.6250]\n",
       "PeriodicSite: O (-1.1739, -2.0333, 11.3724) [0.1250, 0.1250, 0.6250]\n",
       "PeriodicSite: O (0.0000, 0.0000, 24.3694) [0.6250, 0.6250, 0.6250]\n",
       "PeriodicSite: O (-2.3479, 0.0000, 17.8709) [0.1250, 0.6250, 0.6250]\n",
       "PeriodicSite: H (1.1739, 2.0333, 22.7448) [0.7500, 0.7500, 0.2500]\n",
       "PeriodicSite: H (-1.1739, 2.0333, 16.2463) [0.2500, 0.7500, 0.2500]\n",
       "PeriodicSite: H (2.3479, -0.0000, 16.2463) [0.7500, 0.2500, 0.2500]\n",
       "PeriodicSite: H (0.0000, -0.0000, 9.7478) [0.2500, 0.2500, 0.2500]\n",
       "PeriodicSite: H (0.0000, -0.0000, 29.2433) [0.7500, 0.7500, 0.7500]\n",
       "PeriodicSite: H (-2.3479, -0.0000, 22.7448) [0.2500, 0.7500, 0.7500]\n",
       "PeriodicSite: H (1.1739, -2.0333, 22.7448) [0.7500, 0.2500, 0.7500]\n",
       "PeriodicSite: H (-1.1739, -2.0333, 16.2463) [0.2500, 0.2500, 0.7500]\n",
       "PeriodicSite: He (1.1739, 2.0333, 27.6187) [0.8750, 0.8750, 0.3750]\n",
       "PeriodicSite: He (-1.1739, 2.0333, 21.1202) [0.3750, 0.8750, 0.3750]\n",
       "PeriodicSite: He (2.3479, -0.0000, 21.1202) [0.8750, 0.3750, 0.3750]\n",
       "PeriodicSite: He (0.0000, -0.0000, 14.6217) [0.3750, 0.3750, 0.3750]\n",
       "PeriodicSite: He (0.0000, -0.0000, 34.1172) [0.8750, 0.8750, 0.8750]\n",
       "PeriodicSite: He (-2.3479, -0.0000, 27.6187) [0.3750, 0.8750, 0.8750]\n",
       "PeriodicSite: He (1.1739, -2.0333, 27.6187) [0.8750, 0.3750, 0.8750]\n",
       "PeriodicSite: He (-1.1739, -2.0333, 21.1202) [0.3750, 0.3750, 0.8750]"
      ]
     },
     "execution_count": 8,
     "metadata": {},
     "output_type": "execute_result"
    }
   ],
   "source": [
    "disp_str[0]"
   ]
  },
  {
   "cell_type": "code",
   "execution_count": 107,
   "id": "ee5b18e1",
   "metadata": {},
   "outputs": [],
   "source": [
    "matrix = SpacegroupAnalyzer(mno_pmg_opt).get_conventional_to_primitive_transformation_matrix()"
   ]
  },
  {
   "cell_type": "code",
   "execution_count": 110,
   "id": "6ad7ee67",
   "metadata": {},
   "outputs": [
    {
     "data": {
      "text/plain": [
       "array([[-2.709,  1.564,  0.   ],\n",
       "       [ 2.709,  1.564,  0.   ],\n",
       "       [ 0.   ,  0.   , 14.997]])"
      ]
     },
     "execution_count": 110,
     "metadata": {},
     "output_type": "execute_result"
    }
   ],
   "source": [
    "np.round(np.matmul(np.linalg.inv(matrix),mno_pmg_opt.lattice.matrix),3)"
   ]
  },
  {
   "cell_type": "code",
   "execution_count": 82,
   "id": "023ebdd7",
   "metadata": {},
   "outputs": [],
   "source": [
    "a = SpacegroupAnalyzer(mno_pmg_opt).get_symmetrized_structure()"
   ]
  },
  {
   "cell_type": "code",
   "execution_count": 83,
   "id": "5c623144",
   "metadata": {},
   "outputs": [
    {
     "data": {
      "text/plain": [
       "array([[ 1.80606219,  0.        ,  4.99885953],\n",
       "       [-0.90303109,  1.56409574,  4.99885953],\n",
       "       [-0.90303109, -1.56409574,  4.99885953]])"
      ]
     },
     "execution_count": 83,
     "metadata": {},
     "output_type": "execute_result"
    }
   ],
   "source": [
    "a.lattice.matrix"
   ]
  },
  {
   "cell_type": "code",
   "execution_count": 72,
   "id": "42a94656",
   "metadata": {},
   "outputs": [
    {
     "data": {
      "text/plain": [
       "Lattice\n",
       "    abc : 5.3151159200021905 5.315115920000354 5.315115920000355\n",
       " angles : 34.2279109999083 34.22791099998824 34.22791099998824\n",
       " volume : 42.36314758432683\n",
       "      A : 2.989679431989924 0.0 4.394573259941986\n",
       "      B : 1.3531190385265182 2.6659429801850294 4.3945732599446385\n",
       "      C : 0.0 0.0 5.315115920000355"
      ]
     },
     "execution_count": 72,
     "metadata": {},
     "output_type": "execute_result"
    }
   ],
   "source": [
    "Lattice.from_parameters(a,b,c,alpha, beta, gamma )"
   ]
  },
  {
   "cell_type": "code",
   "execution_count": 75,
   "id": "4d774fc2",
   "metadata": {},
   "outputs": [
    {
     "data": {
      "text/plain": [
       "<Popen: returncode: None args: ['/Users/brunocamino/miniconda3/envs/test_env...>"
      ]
     },
     "execution_count": 75,
     "metadata": {},
     "output_type": "execute_result"
    },
    {
     "name": "stderr",
     "output_type": "stream",
     "text": [
      "<frozen importlib._bootstrap>:228: RuntimeWarning: scipy._lib.messagestream.MessageStream size changed, may indicate binary incompatibility. Expected 56 from C header, got 64 from PyObject\n"
     ]
    }
   ],
   "source": [
    "view(AseAtomsAdaptor().get_atoms(mno_pmg))"
   ]
  },
  {
   "cell_type": "code",
   "execution_count": 411,
   "id": "bd9ff866",
   "metadata": {},
   "outputs": [],
   "source": [
    "def cart2sph(xyz):\n",
    "    x = xyz[0]\n",
    "    y = xyz[1]\n",
    "    z = xyz[2]\n",
    "    \n",
    "    hxy = np.hypot(x, y)\n",
    "    r = np.hypot(hxy, z)\n",
    "    el = np.arctan2(z, hxy)\n",
    "    az = np.arctan2(y, x)\n",
    "    if np.around(az,6) ==  np.around(2*np.pi,6) \\\n",
    "    or np.around(az,6) ==  -np.around(2*np.pi,6):\n",
    "        az = 0.\n",
    "    if np.around(az,6) < 0.:\n",
    "        az = np.round(2*np.pi+az,6)\n",
    "    return [round(az,6), round(el,6), round(r,6)]\n",
    "\n",
    "def sph2cart(azelr):\n",
    "    az = azelr[0]\n",
    "    el = azelr[1]\n",
    "    r = azelr[2]\n",
    "    \n",
    "    x = r*np.cos(az)*np.sin(el)\n",
    "    y = r*np.sin(az)*np.sin(el)\n",
    "    z = r*np.cos(el)\n",
    "    \n",
    "    return [x,y,z]"
   ]
  },
  {
   "cell_type": "code",
   "execution_count": 428,
   "id": "d04d4b1e",
   "metadata": {},
   "outputs": [],
   "source": [
    "#ONLY ONE\n",
    "directory = './isa/MnO/test/'\n",
    "\n",
    "range_scel = int(disp_str[0].num_sites/mno_pmg.num_sites)\n",
    "for i in range(len(disp_str)):\n",
    "    for j in range(range_scel):\n",
    "        disp_str[i].replace(j,1)\n",
    "\n",
    "spin = []\n",
    "for i in np.where(np.array(disp_str[0].atomic_numbers)==1)[0]:\n",
    "    spin.extend(['%s +1'%(i+1)])\n",
    "for i in np.where(np.array(disp_str[0].atomic_numbers)==25)[0]:\n",
    "    spin.extend(['%s -1'%(i+1)])\n",
    "\n",
    "n_spin = len(np.where(np.array(disp_str[0].atomic_numbers)==1)[0])+\\\n",
    "    len(np.where(np.array(disp_str[0].atomic_numbers)==25)[0])\n",
    "spin = ' '.join(spin)       \n",
    "\n",
    "mno_scel = cry_pmg2gui(disp_str[0],symmetry=True)\n",
    "mno_scel.atom_number = mno_scel_atomic_numbers\n",
    "\n",
    "write_crystal_gui(join(directory,'supercell_symm.gui'),mno_scel)\n",
    "\n",
    "mno_scel = cry_pmg2gui(disp_str[0],symmetry=False)\n",
    "mno_scel.atom_number = mno_scel_atomic_numbers\n",
    "\n",
    "write_crystal_gui(join(directory,'supercell.gui'),mno_scel)\n",
    "\n",
    "\n",
    "mno_scel_inp = Crystal_input().from_file(join(directory,'MnO.d12'))\n",
    "\n",
    "\n",
    "#INPUT FILES\n",
    "mno_scel_inp = Crystal_input().from_file(join(directory,'MnO.d12'))\n",
    "mno_scel_inp.scf_block.insert(-1,'ATOMSPIN\\n')\n",
    "mno_scel_inp.scf_block.insert(-1,'%s\\n'%n_spin)\n",
    "mno_scel_inp.scf_block.insert(-1,spin+'\\n')\n",
    "mno_scel_inp.scf_block.insert(-1,'SAVEPRED\\n')\n",
    "#mno_scel_inp.scf_block.insert(-1,'MPP\\n')\n",
    "mno_scel_inp.scf_block\n",
    "\n",
    "write_crystal_input(join(directory,'supercell_symm.d12'),mno_scel_inp)\n",
    "\n",
    "mno_scel_inp.geom_block.insert(-1,'SYMMREMO\\n')\n",
    "mno_scel_inp.scf_block[-3] = 'GUESSYMP\\n'\n",
    "\n",
    "write_crystal_input(join(directory,'supercell.d12'),mno_scel_inp)\n",
    "\n",
    "mno_scel_inp.scf_block[-3] = 'GUESSP\\n'\n",
    "\n",
    "#Displacements\n",
    "for i,disp in enumerate(disp_str[1:]):   \n",
    "    mno_scel = cry_pmg2gui(disp,symmetry=False)\n",
    "    mno_scel.atom_number = mno_scel_atomic_numbers\n",
    "\n",
    "    write_crystal_gui(join(directory,'supercell-00%s.gui'%(i+1)),mno_scel,symm=False)\n",
    "    write_crystal_input(join(directory,'supercell-00%s.d12'%(i+1)),mno_scel_inp)"
   ]
  },
  {
   "cell_type": "markdown",
   "id": "a792454f",
   "metadata": {},
   "source": [
    "## Workflow"
   ]
  },
  {
   "cell_type": "markdown",
   "id": "447f5566",
   "metadata": {},
   "source": [
    "## Aurora"
   ]
  },
  {
   "cell_type": "code",
   "execution_count": 49,
   "id": "2f858693",
   "metadata": {},
   "outputs": [],
   "source": [
    "for i,func in enumerate(['lda','gga','hybrid']):\n",
    "    directory = './aurora/phonons/%s'%func\n",
    "    \n",
    "    opt_input = Crystal_input().from_file(join(directory,'geom_opt.d12'))\n",
    "    \n",
    "    n_disp = 2\n",
    "    \n",
    "    shutil.copy(join(directory,'supercell.ext'),join(directory,'supercell_symm.gui'))\n",
    "    shutil.copy(join(directory,'supercell.ext'),join(directory,'supercell.gui'))\n",
    "\n",
    "    supercell_gui = Crystal_gui().read_cry_gui(join(directory,'supercell_symm.gui'))\n",
    "    supercell_pmg = cry_gui2pmg(supercell_gui)\n",
    "    supercell_gui = cry_pmg2gui(supercell_pmg)\n",
    "    write_crystal_gui(join(directory,'supercell_symm.gui'),supercell_gui)\n",
    "\n",
    "    symm_inp = Crystal_input().from_file('./aurora/phonons/supercell_symm.d12')\n",
    "    symm_inp.func_block = opt_input.func_block\n",
    "    write_crystal_input(join(directory,'supercell_symm.d12'),symm_inp)\n",
    "\n",
    "    no_symm = Crystal_input().from_file('./aurora/phonons/supercell_nosymm.d12')\n",
    "    no_symm.func_block = opt_input.func_block\n",
    "    write_crystal_input(join(directory,'supercell.d12'),no_symm)\n",
    "\n",
    "    disp_inp = Crystal_input().from_file('./aurora/phonons/supercell_disp.d12')\n",
    "    disp_inp.func_block = opt_input.func_block\n",
    "\n",
    "    for i in range(1,n_disp+1):\n",
    "\n",
    "        #disp_inp = Crystal_input().from_file('./aurora/phonons/supercell_disp.d12')\n",
    "\n",
    "        shutil.copy(join(directory,'supercell-00%s.ext'%i),join(directory,'supercell-00%s.gui'%i))\n",
    "        #supercell_gui = Crystal_gui().read_cry_gui(join(directory,'supercell-00%s.gui'%i))\n",
    "        #supercell_pmg = cry_gui2pmg(supercell_gui)\n",
    "        #supercell_gui = cry_pmg2gui(supercell_pmg)\n",
    "\n",
    "        #write_crystal_gui(join(directory,'supercell-00%s.gui'%i),supercell_gui)\n",
    "        write_crystal_input(join(directory,'supercell-00%s.d12'%i),disp_inp)"
   ]
  },
  {
   "cell_type": "code",
   "execution_count": 46,
   "id": "c1fb4372",
   "metadata": {},
   "outputs": [],
   "source": [
    "directory = './aurora/phonons/test'\n",
    "\n",
    "opt_input = Crystal_input().from_file(join(directory,'geom_opt.d12'))\n",
    "\n",
    "n_disp = 2\n",
    "\n",
    "shutil.copy(join(directory,'supercell.ext'),join(directory,'supercell_symm.gui'))\n",
    "shutil.copy(join(directory,'supercell.ext'),join(directory,'supercell.gui'))\n",
    "\n",
    "supercell_gui = Crystal_gui().read_cry_gui(join(directory,'supercell_symm.gui'))\n",
    "supercell_pmg = cry_gui2pmg(supercell_gui)\n",
    "supercell_gui = cry_pmg2gui(supercell_pmg)\n",
    "write_crystal_gui(join(directory,'supercell_symm.gui'),supercell_gui)\n",
    "\n",
    "symm_inp = Crystal_input().from_file('./aurora/phonons/supercell_symm.d12')\n",
    "symm_inp.func_block = opt_input.func_block\n",
    "write_crystal_input(join(directory,'supercell_symm.d12'),symm_inp)\n",
    "\n",
    "no_symm = Crystal_input().from_file('./aurora/phonons/supercell_nosymm.d12')\n",
    "no_symm.func_block = opt_input.func_block\n",
    "write_crystal_input(join(directory,'supercell.d12'),no_symm)\n",
    "\n",
    "disp_inp = Crystal_input().from_file('./aurora/phonons/supercell_disp.d12')\n",
    "disp_inp.func_block = opt_input.func_block\n",
    "\n",
    "for i in range(1,n_disp+1):\n",
    "\n",
    "    #disp_inp = Crystal_input().from_file('./aurora/phonons/supercell_disp.d12')\n",
    "\n",
    "    shutil.copy(join(directory,'supercell-00%s.ext'%i),join(directory,'supercell-00%s.gui'%i))\n",
    "    #supercell_gui = Crystal_gui().read_cry_gui(join(directory,'supercell-00%s.gui'%i))\n",
    "    #supercell_pmg = cry_gui2pmg(supercell_gui)\n",
    "    #supercell_gui = cry_pmg2gui(supercell_pmg)\n",
    "\n",
    "    #write_crystal_gui(join(directory,'supercell-00%s.gui'%i),supercell_gui)\n",
    "    write_crystal_input(join(directory,'supercell-00%s.d12'%i),disp_inp)"
   ]
  },
  {
   "cell_type": "code",
   "execution_count": 17,
   "id": "9963537c",
   "metadata": {},
   "outputs": [],
   "source": [
    "directory = './aurora/phonons/lda'\n",
    "supercell_gui = Crystal_gui().read_cry_gui(join(directory,'supercell_symm.gui'))\n",
    "supercell_pmg = cry_gui2pmg(supercell_gui)"
   ]
  },
  {
   "cell_type": "code",
   "execution_count": 19,
   "id": "ccf21b80",
   "metadata": {},
   "outputs": [],
   "source": [
    "a = SpacegroupAnalyzer(supercell_pmg).get_symmetry_operations()"
   ]
  },
  {
   "cell_type": "code",
   "execution_count": 43,
   "id": "9b107965",
   "metadata": {},
   "outputs": [],
   "source": [
    "I = np.identity(3,dtype=int)*-1\n",
    "for op in a:\n",
    "    if np.sum(np.array(op.rotation_matrix,dtype=int) == I) == 9:\n",
    "        print('yes')\n",
    "        \n"
   ]
  },
  {
   "cell_type": "code",
   "execution_count": 10,
   "id": "3965ce67",
   "metadata": {},
   "outputs": [
    {
     "data": {
      "text/plain": [
       "['a']"
      ]
     },
     "execution_count": 10,
     "metadata": {},
     "output_type": "execute_result"
    }
   ],
   "source": [
    "symm_inp.func_block"
   ]
  },
  {
   "cell_type": "code",
   "execution_count": 38,
   "id": "a7adf6bf",
   "metadata": {},
   "outputs": [
    {
     "name": "stdout",
     "output_type": "stream",
     "text": [
      "<class 'crystal_functions.file_readwrite.Crystal_gui'>\n",
      "<class 'crystal_functions.file_readwrite.Crystal_gui'>\n"
     ]
    }
   ],
   "source": [
    "directory = './aurora/phonons/lda/'\n",
    "n_disp = 2\n",
    "\n",
    "for i in range(1,n_disp+1):\n",
    "    \n",
    "    disp_inp = Crystal_input().from_file('./aurora/phonons/supercell_disp.d12')\n",
    "    \n",
    "    shutil.copy(join(directory,'supercell-00%s.ext'%i),join(directory,'supercell-00%s.gui'%i))\n",
    "    supercell_gui = Crystal_gui().read_cry_gui(join(directory,'supercell-00%s.gui'%i))\n",
    "    supercell_pmg = cry_gui2pmg(supercell_gui)\n",
    "    supercell_gui = cry_pmg2gui(supercell_pmg)\n",
    "    \n",
    "    write_crystal_gui(join(directory,'supercell-00%s.gui'%i),supercell_gui)\n",
    "    write_crystal_input(join(directory,'supercell-00%s.gui'%i),disp_inp)\n",
    "    \n"
   ]
  },
  {
   "cell_type": "code",
   "execution_count": 51,
   "id": "5204b682",
   "metadata": {},
   "outputs": [
    {
     "data": {
      "text/plain": [
       "Structure Summary\n",
       "Lattice\n",
       "    abc : 2.9818692962636706 2.9818692962636706 2.9818692962636706\n",
       " angles : 59.99999999999999 59.99999999999999 59.99999999999999\n",
       " volume : 18.747821578249994\n",
       "      A : 0.0 2.1085 2.1085\n",
       "      B : 2.1085 0.0 2.1085\n",
       "      C : 2.1085 2.1085 0.0\n",
       "PeriodicSite: Mg (0.0000, 0.0000, 0.0000) [0.0000, 0.0000, 0.0000]\n",
       "PeriodicSite: O (0.0000, 0.0000, -2.1085) [-0.5000, -0.5000, 0.5000]"
      ]
     },
     "execution_count": 51,
     "metadata": {},
     "output_type": "execute_result"
    }
   ],
   "source": [
    "cry_gui = Crystal_gui().read_cry_gui('./mgo.gui')\n",
    "mgo_pmg = cry_gui2pmg(cry_gui)\n",
    "mgo_pmg"
   ]
  },
  {
   "cell_type": "code",
   "execution_count": 52,
   "id": "5fbbcf61",
   "metadata": {
    "collapsed": true
   },
   "outputs": [
    {
     "data": {
      "text/plain": [
       "Structure Summary\n",
       "Lattice\n",
       "    abc : 4.217 4.217 4.217\n",
       " angles : 90.0 90.0 90.0\n",
       " volume : 74.99128631299997\n",
       "      A : 4.217 0.0 0.0\n",
       "      B : 0.0 4.217 0.0\n",
       "      C : 0.0 0.0 4.217\n",
       "PeriodicSite: Mg (0.0000, 0.0000, 0.0000) [0.0000, 0.0000, 0.0000]\n",
       "PeriodicSite: Mg (2.1085, 2.1085, 0.0000) [0.5000, 0.5000, 0.0000]\n",
       "PeriodicSite: Mg (2.1085, 0.0000, 2.1085) [0.5000, 0.0000, 0.5000]\n",
       "PeriodicSite: Mg (0.0000, 2.1085, 2.1085) [0.0000, 0.5000, 0.5000]\n",
       "PeriodicSite: O (0.0000, 0.0000, 2.1085) [0.0000, 0.0000, 0.5000]\n",
       "PeriodicSite: O (2.1085, 2.1085, 2.1085) [0.5000, 0.5000, 0.5000]\n",
       "PeriodicSite: O (2.1085, 0.0000, 0.0000) [0.5000, 0.0000, 0.0000]\n",
       "PeriodicSite: O (0.0000, 2.1085, 0.0000) [0.0000, 0.5000, 0.0000]"
      ]
     },
     "execution_count": 52,
     "metadata": {},
     "output_type": "execute_result"
    }
   ],
   "source": [
    "#mgo_pmg.make_supercell(np.identity(3)*2)\n",
    "mgo_pmg.make_supercell([[-1,1,1],[1,-1,1],[1,1,-1]])\n",
    "mgo_pmg"
   ]
  },
  {
   "cell_type": "code",
   "execution_count": 54,
   "id": "553499e4",
   "metadata": {},
   "outputs": [],
   "source": [
    "mgo_pmg.translate_sites(1,[0.,0.,0.003])"
   ]
  },
  {
   "cell_type": "code",
   "execution_count": 55,
   "id": "67997e2a",
   "metadata": {},
   "outputs": [
    {
     "data": {
      "text/plain": [
       "8"
      ]
     },
     "execution_count": 55,
     "metadata": {},
     "output_type": "execute_result"
    }
   ],
   "source": [
    "len(SpacegroupAnalyzer(mgo_pmg).get_symmetry_operations())\n",
    "#mgo_gui = cry_pmg2gui(mgo_pmg)"
   ]
  },
  {
   "cell_type": "code",
   "execution_count": 83,
   "id": "8a9816cd",
   "metadata": {},
   "outputs": [],
   "source": [
    "write_crystal_gui('./MnO_initial.gui',mgo_gui)"
   ]
  },
  {
   "cell_type": "code",
   "execution_count": 88,
   "id": "e1af1184",
   "metadata": {},
   "outputs": [],
   "source": [
    "mno_gui = Crystal_gui().read_cry_gui('./MnO_initial.gui')\n",
    "mno_pmg = cry_gui2pmg(mno_gui)"
   ]
  },
  {
   "cell_type": "code",
   "execution_count": 89,
   "id": "6a8e1732",
   "metadata": {},
   "outputs": [],
   "source": [
    "mno_pmg.replace(2,'H')"
   ]
  },
  {
   "cell_type": "code",
   "execution_count": 90,
   "id": "9655c58c",
   "metadata": {},
   "outputs": [],
   "source": [
    "mno_pmg.make_supercell(np.identity(3)*2)"
   ]
  },
  {
   "cell_type": "code",
   "execution_count": 91,
   "id": "01ba2410",
   "metadata": {
    "collapsed": true
   },
   "outputs": [
    {
     "data": {
      "text/plain": [
       "Structure Summary\n",
       "Lattice\n",
       "    abc : 10.630231840004381 10.63023184000071 10.63023184000071\n",
       " angles : 34.22791099990832 34.22791099998824 34.22791099998824\n",
       " volume : 338.9051806746147\n",
       "      A : 3.61212437864 0.0 9.99771906214\n",
       "      B : -1.806062189318 3.12819147352 9.99771906214\n",
       "      C : -1.806062189318 -3.12819147352 9.99771906214\n",
       "PeriodicSite: Mn (0.0000, 0.0000, 0.0000) [0.0000, 0.0000, 0.0000]\n",
       "PeriodicSite: Mn (2.7091, -1.5641, 14.9966) [1.0000, 0.0000, 0.5000]\n",
       "PeriodicSite: Mn (-0.9030, 1.5641, 4.9989) [0.0000, 0.5000, 0.0000]\n",
       "PeriodicSite: Mn (1.8061, -0.0000, 19.9954) [1.0000, 0.5000, 0.5000]\n",
       "PeriodicSite: Mn (1.8061, 0.0000, 4.9989) [0.5000, 0.0000, 0.0000]\n",
       "PeriodicSite: Mn (0.9030, -1.5641, 9.9977) [0.5000, 0.0000, 0.5000]\n",
       "PeriodicSite: Mn (0.9030, 1.5641, 9.9977) [0.5000, 0.5000, 0.0000]\n",
       "PeriodicSite: Mn (0.0000, -0.0000, 14.9966) [0.5000, 0.5000, 0.5000]\n",
       "PeriodicSite: O (1.8061, 0.0000, 8.7480) [0.6250, 0.1250, 0.1250]\n",
       "PeriodicSite: O (0.9030, -1.5641, 13.7469) [0.6250, 0.1250, 0.6250]\n",
       "PeriodicSite: O (0.9030, 1.5641, 13.7469) [0.6250, 0.6250, 0.1250]\n",
       "PeriodicSite: O (0.0000, -0.0000, 18.7457) [0.6250, 0.6250, 0.6250]\n",
       "PeriodicSite: O (0.0000, -0.0000, 3.7491) [0.1250, 0.1250, 0.1250]\n",
       "PeriodicSite: O (-0.9030, -1.5641, 8.7480) [0.1250, 0.1250, 0.6250]\n",
       "PeriodicSite: O (-0.9030, 1.5641, 8.7480) [0.1250, 0.6250, 0.1250]\n",
       "PeriodicSite: O (-1.8061, -0.0000, 13.7469) [0.1250, 0.6250, 0.6250]\n",
       "PeriodicSite: H (0.9030, 1.5641, 17.4960) [0.7500, 0.7500, 0.2500]\n",
       "PeriodicSite: H (0.0000, -0.0000, 22.4949) [0.7500, 0.7500, 0.7500]\n",
       "PeriodicSite: H (1.8061, -0.0000, 12.4971) [0.7500, 0.2500, 0.2500]\n",
       "PeriodicSite: H (0.9030, -1.5641, 17.4960) [0.7500, 0.2500, 0.7500]\n",
       "PeriodicSite: H (-0.9030, 1.5641, 12.4971) [0.2500, 0.7500, 0.2500]\n",
       "PeriodicSite: H (-1.8061, -0.0000, 17.4960) [0.2500, 0.7500, 0.7500]\n",
       "PeriodicSite: H (0.0000, -0.0000, 7.4983) [0.2500, 0.2500, 0.2500]\n",
       "PeriodicSite: H (-0.9030, -1.5641, 12.4971) [0.2500, 0.2500, 0.7500]\n",
       "PeriodicSite: O (0.9030, 1.5641, 21.2452) [0.8750, 0.8750, 0.3750]\n",
       "PeriodicSite: O (0.0000, -0.0000, 26.2440) [0.8750, 0.8750, 0.8750]\n",
       "PeriodicSite: O (1.8061, -0.0000, 16.2463) [0.8750, 0.3750, 0.3750]\n",
       "PeriodicSite: O (0.9030, -1.5641, 21.2452) [0.8750, 0.3750, 0.8750]\n",
       "PeriodicSite: O (-0.9030, 1.5641, 16.2463) [0.3750, 0.8750, 0.3750]\n",
       "PeriodicSite: O (-1.8061, -0.0000, 21.2452) [0.3750, 0.8750, 0.8750]\n",
       "PeriodicSite: O (0.0000, -0.0000, 11.2474) [0.3750, 0.3750, 0.3750]\n",
       "PeriodicSite: O (-0.9030, -1.5641, 16.2463) [0.3750, 0.3750, 0.8750]"
      ]
     },
     "execution_count": 91,
     "metadata": {},
     "output_type": "execute_result"
    }
   ],
   "source": [
    "mno_pmg"
   ]
  },
  {
   "cell_type": "code",
   "execution_count": 82,
   "id": "e0774673",
   "metadata": {
    "collapsed": true
   },
   "outputs": [
    {
     "name": "stdout",
     "output_type": "stream",
     "text": [
      "0  +1\n",
      "1  +1\n",
      "2  +1\n",
      "3  +1\n",
      "4  +1\n",
      "5  +1\n",
      "6  +1\n",
      "7  +1\n",
      "8  +1\n",
      "9  +1\n",
      "10  +1\n",
      "11  +1\n",
      "12  +1\n",
      "13  +1\n",
      "14  +1\n",
      "15  +1\n",
      "24  +1\n",
      "25  +1\n",
      "26  +1\n",
      "27  +1\n",
      "28  +1\n",
      "29  +1\n",
      "30  +1\n",
      "31  +1\n",
      "32  +1\n",
      "33  +1\n",
      "34  +1\n",
      "35  +1\n",
      "36  +1\n",
      "37  +1\n",
      "38  +1\n",
      "39  +1\n",
      "40  +1\n",
      "41  +1\n",
      "42  +1\n",
      "43  +1\n",
      "44  +1\n",
      "45  +1\n",
      "46  +1\n",
      "47  +1\n",
      "48  +1\n",
      "49  +1\n",
      "50  +1\n",
      "51  +1\n",
      "52  +1\n",
      "53  +1\n",
      "54  +1\n",
      "55  +1\n",
      "56  +1\n",
      "57  +1\n",
      "58  +1\n",
      "59  +1\n",
      "60  +1\n",
      "61  +1\n",
      "62  +1\n",
      "63  +1\n",
      "128  +1\n",
      "129  +1\n",
      "130  +1\n",
      "131  +1\n",
      "132  +1\n",
      "133  +1\n",
      "134  +1\n",
      "135  +1\n",
      "136  +1\n",
      "137  +1\n",
      "138  +1\n",
      "139  +1\n",
      "140  +1\n",
      "141  +1\n",
      "142  +1\n",
      "143  +1\n",
      "144  +1\n",
      "145  +1\n",
      "146  +1\n",
      "147  +1\n",
      "148  +1\n",
      "149  +1\n",
      "150  +1\n",
      "151  +1\n",
      "152  +1\n",
      "153  +1\n",
      "154  +1\n",
      "155  +1\n",
      "156  +1\n",
      "157  +1\n",
      "158  +1\n",
      "159  +1\n",
      "160  +1\n",
      "161  +1\n",
      "162  +1\n",
      "163  +1\n",
      "164  +1\n",
      "165  +1\n",
      "166  +1\n",
      "167  +1\n",
      "168  +1\n",
      "169  +1\n",
      "170  +1\n",
      "171  +1\n",
      "172  +1\n",
      "173  +1\n",
      "174  +1\n",
      "175  +1\n",
      "176  +1\n",
      "177  +1\n",
      "178  +1\n",
      "179  +1\n",
      "180  +1\n",
      "181  +1\n",
      "182  +1\n",
      "183  +1\n",
      "184  +1\n",
      "185  +1\n",
      "186  +1\n",
      "187  +1\n",
      "188  +1\n",
      "189  +1\n",
      "190  +1\n",
      "191  +1\n"
     ]
    }
   ],
   "source": [
    "for i in np.where(np.array(mno_pmg.atomic_numbers)==25)[0]:\n",
    "    print(i,' +1')\n",
    "    #mno_pmg.replace([16, 17, 18, 19, 20, 21, 22, 23],['Mn']*8)"
   ]
  },
  {
   "cell_type": "code",
   "execution_count": 94,
   "id": "26b81fd6",
   "metadata": {},
   "outputs": [],
   "source": [
    "mno_pmg.translate_sites(0,[0.,0.,0.003])"
   ]
  },
  {
   "cell_type": "code",
   "execution_count": 74,
   "id": "fd1ec118",
   "metadata": {
    "collapsed": true
   },
   "outputs": [
    {
     "name": "stderr",
     "output_type": "stream",
     "text": [
      "ERROR:root:Internal Python error in the inspect module.\n",
      "Below is the traceback from this internal error.\n",
      "\n"
     ]
    },
    {
     "name": "stdout",
     "output_type": "stream",
     "text": [
      "EXITING: a .gui file needs to be specified\n",
      "Traceback (most recent call last):\n",
      "  File \"/Users/brunocamino/miniconda3/envs/test_env/lib/python3.9/site-packages/crystal_functions/file_readwrite.py\", line 1957, in read_cry_gui\n",
      "    file = open(gui_file, 'r')\n",
      "FileNotFoundError: [Errno 2] No such file or directory: './isa/MnO_super.out.gui'\n",
      "\n",
      "During handling of the above exception, another exception occurred:\n",
      "\n",
      "Traceback (most recent call last):\n",
      "  File \"/Users/brunocamino/miniconda3/envs/test_env/lib/python3.9/site-packages/IPython/core/interactiveshell.py\", line 3457, in run_code\n",
      "    exec(code_obj, self.user_global_ns, self.user_ns)\n",
      "  File \"/var/folders/f2/8kc7y9697m59bwltxjd42y300000gn/T/ipykernel_62530/1747659824.py\", line 1, in <module>\n",
      "    view(AseAtomsAdaptor().get_atoms(cry_gui2pmg(Crystal_gui().read_cry_gui('./isa/MnO_super.out'))))\n",
      "  File \"/Users/brunocamino/miniconda3/envs/test_env/lib/python3.9/site-packages/crystal_functions/file_readwrite.py\", line 1962, in read_cry_gui\n",
      "    sys.exit(1)\n",
      "SystemExit: 1\n",
      "\n",
      "During handling of the above exception, another exception occurred:\n",
      "\n",
      "Traceback (most recent call last):\n",
      "  File \"/Users/brunocamino/miniconda3/envs/test_env/lib/python3.9/site-packages/IPython/core/ultratb.py\", line 1101, in get_records\n",
      "    return _fixed_getinnerframes(etb, number_of_lines_of_context, tb_offset)\n",
      "  File \"/Users/brunocamino/miniconda3/envs/test_env/lib/python3.9/site-packages/IPython/core/ultratb.py\", line 248, in wrapped\n",
      "    return f(*args, **kwargs)\n",
      "  File \"/Users/brunocamino/miniconda3/envs/test_env/lib/python3.9/site-packages/IPython/core/ultratb.py\", line 281, in _fixed_getinnerframes\n",
      "    records = fix_frame_records_filenames(inspect.getinnerframes(etb, context))\n",
      "  File \"/Users/brunocamino/miniconda3/envs/test_env/lib/python3.9/inspect.py\", line 1543, in getinnerframes\n",
      "    frameinfo = (tb.tb_frame,) + getframeinfo(tb, context)\n",
      "AttributeError: 'tuple' object has no attribute 'tb_frame'\n"
     ]
    },
    {
     "ename": "TypeError",
     "evalue": "object of type 'NoneType' has no len()",
     "output_type": "error",
     "traceback": [
      "\u001b[0;31m---------------------------------------------------------------------------\u001b[0m",
      "\u001b[0;31mFileNotFoundError\u001b[0m                         Traceback (most recent call last)",
      "\u001b[0;32m~/miniconda3/envs/test_env/lib/python3.9/site-packages/crystal_functions/file_readwrite.py\u001b[0m in \u001b[0;36mread_cry_gui\u001b[0;34m(self, gui_file)\u001b[0m\n\u001b[1;32m   1956\u001b[0m                 \u001b[0mgui_file\u001b[0m \u001b[0;34m=\u001b[0m \u001b[0mgui_file\u001b[0m \u001b[0;34m+\u001b[0m \u001b[0;34m'.gui'\u001b[0m\u001b[0;34m\u001b[0m\u001b[0;34m\u001b[0m\u001b[0m\n\u001b[0;32m-> 1957\u001b[0;31m             \u001b[0mfile\u001b[0m \u001b[0;34m=\u001b[0m \u001b[0mopen\u001b[0m\u001b[0;34m(\u001b[0m\u001b[0mgui_file\u001b[0m\u001b[0;34m,\u001b[0m \u001b[0;34m'r'\u001b[0m\u001b[0;34m)\u001b[0m\u001b[0;34m\u001b[0m\u001b[0;34m\u001b[0m\u001b[0m\n\u001b[0m\u001b[1;32m   1958\u001b[0m             \u001b[0mdata\u001b[0m \u001b[0;34m=\u001b[0m \u001b[0mfile\u001b[0m\u001b[0;34m.\u001b[0m\u001b[0mreadlines\u001b[0m\u001b[0;34m(\u001b[0m\u001b[0;34m)\u001b[0m\u001b[0;34m\u001b[0m\u001b[0;34m\u001b[0m\u001b[0m\n",
      "\u001b[0;31mFileNotFoundError\u001b[0m: [Errno 2] No such file or directory: './isa/MnO_super.out.gui'",
      "\nDuring handling of the above exception, another exception occurred:\n",
      "\u001b[0;31mSystemExit\u001b[0m                                Traceback (most recent call last)",
      "    \u001b[0;31m[... skipping hidden 1 frame]\u001b[0m\n",
      "\u001b[0;32m/var/folders/f2/8kc7y9697m59bwltxjd42y300000gn/T/ipykernel_62530/1747659824.py\u001b[0m in \u001b[0;36m<module>\u001b[0;34m\u001b[0m\n\u001b[0;32m----> 1\u001b[0;31m \u001b[0mview\u001b[0m\u001b[0;34m(\u001b[0m\u001b[0mAseAtomsAdaptor\u001b[0m\u001b[0;34m(\u001b[0m\u001b[0;34m)\u001b[0m\u001b[0;34m.\u001b[0m\u001b[0mget_atoms\u001b[0m\u001b[0;34m(\u001b[0m\u001b[0mcry_gui2pmg\u001b[0m\u001b[0;34m(\u001b[0m\u001b[0mCrystal_gui\u001b[0m\u001b[0;34m(\u001b[0m\u001b[0;34m)\u001b[0m\u001b[0;34m.\u001b[0m\u001b[0mread_cry_gui\u001b[0m\u001b[0;34m(\u001b[0m\u001b[0;34m'./isa/MnO_super.out'\u001b[0m\u001b[0;34m)\u001b[0m\u001b[0;34m)\u001b[0m\u001b[0;34m)\u001b[0m\u001b[0;34m)\u001b[0m\u001b[0;34m\u001b[0m\u001b[0;34m\u001b[0m\u001b[0m\n\u001b[0m",
      "\u001b[0;32m~/miniconda3/envs/test_env/lib/python3.9/site-packages/crystal_functions/file_readwrite.py\u001b[0m in \u001b[0;36mread_cry_gui\u001b[0;34m(self, gui_file)\u001b[0m\n\u001b[1;32m   1961\u001b[0m             \u001b[0mprint\u001b[0m\u001b[0;34m(\u001b[0m\u001b[0;34m'EXITING: a .gui file needs to be specified'\u001b[0m\u001b[0;34m)\u001b[0m\u001b[0;34m\u001b[0m\u001b[0;34m\u001b[0m\u001b[0m\n\u001b[0;32m-> 1962\u001b[0;31m             \u001b[0msys\u001b[0m\u001b[0;34m.\u001b[0m\u001b[0mexit\u001b[0m\u001b[0;34m(\u001b[0m\u001b[0;36m1\u001b[0m\u001b[0;34m)\u001b[0m\u001b[0;34m\u001b[0m\u001b[0;34m\u001b[0m\u001b[0m\n\u001b[0m\u001b[1;32m   1963\u001b[0m \u001b[0;34m\u001b[0m\u001b[0m\n",
      "\u001b[0;31mSystemExit\u001b[0m: 1",
      "\nDuring handling of the above exception, another exception occurred:\n",
      "\u001b[0;31mTypeError\u001b[0m                                 Traceback (most recent call last)",
      "    \u001b[0;31m[... skipping hidden 1 frame]\u001b[0m\n",
      "\u001b[0;32m~/miniconda3/envs/test_env/lib/python3.9/site-packages/IPython/core/interactiveshell.py\u001b[0m in \u001b[0;36mshowtraceback\u001b[0;34m(self, exc_tuple, filename, tb_offset, exception_only, running_compiled_code)\u001b[0m\n\u001b[1;32m   2068\u001b[0m                     stb = ['An exception has occurred, use %tb to see '\n\u001b[1;32m   2069\u001b[0m                            'the full traceback.\\n']\n\u001b[0;32m-> 2070\u001b[0;31m                     stb.extend(self.InteractiveTB.get_exception_only(etype,\n\u001b[0m\u001b[1;32m   2071\u001b[0m                                                                      value))\n\u001b[1;32m   2072\u001b[0m                 \u001b[0;32melse\u001b[0m\u001b[0;34m:\u001b[0m\u001b[0;34m\u001b[0m\u001b[0;34m\u001b[0m\u001b[0m\n",
      "\u001b[0;32m~/miniconda3/envs/test_env/lib/python3.9/site-packages/IPython/core/ultratb.py\u001b[0m in \u001b[0;36mget_exception_only\u001b[0;34m(self, etype, value)\u001b[0m\n\u001b[1;32m    752\u001b[0m         \u001b[0mvalue\u001b[0m \u001b[0;34m:\u001b[0m \u001b[0mexception\u001b[0m \u001b[0mvalue\u001b[0m\u001b[0;34m\u001b[0m\u001b[0;34m\u001b[0m\u001b[0m\n\u001b[1;32m    753\u001b[0m         \"\"\"\n\u001b[0;32m--> 754\u001b[0;31m         \u001b[0;32mreturn\u001b[0m \u001b[0mListTB\u001b[0m\u001b[0;34m.\u001b[0m\u001b[0mstructured_traceback\u001b[0m\u001b[0;34m(\u001b[0m\u001b[0mself\u001b[0m\u001b[0;34m,\u001b[0m \u001b[0metype\u001b[0m\u001b[0;34m,\u001b[0m \u001b[0mvalue\u001b[0m\u001b[0;34m)\u001b[0m\u001b[0;34m\u001b[0m\u001b[0;34m\u001b[0m\u001b[0m\n\u001b[0m\u001b[1;32m    755\u001b[0m \u001b[0;34m\u001b[0m\u001b[0m\n\u001b[1;32m    756\u001b[0m     \u001b[0;32mdef\u001b[0m \u001b[0mshow_exception_only\u001b[0m\u001b[0;34m(\u001b[0m\u001b[0mself\u001b[0m\u001b[0;34m,\u001b[0m \u001b[0metype\u001b[0m\u001b[0;34m,\u001b[0m \u001b[0mevalue\u001b[0m\u001b[0;34m)\u001b[0m\u001b[0;34m:\u001b[0m\u001b[0;34m\u001b[0m\u001b[0;34m\u001b[0m\u001b[0m\n",
      "\u001b[0;32m~/miniconda3/envs/test_env/lib/python3.9/site-packages/IPython/core/ultratb.py\u001b[0m in \u001b[0;36mstructured_traceback\u001b[0;34m(self, etype, evalue, etb, tb_offset, context)\u001b[0m\n\u001b[1;32m    627\u001b[0m             \u001b[0mchained_exceptions_tb_offset\u001b[0m \u001b[0;34m=\u001b[0m \u001b[0;36m0\u001b[0m\u001b[0;34m\u001b[0m\u001b[0;34m\u001b[0m\u001b[0m\n\u001b[1;32m    628\u001b[0m             out_list = (\n\u001b[0;32m--> 629\u001b[0;31m                 self.structured_traceback(\n\u001b[0m\u001b[1;32m    630\u001b[0m                     \u001b[0metype\u001b[0m\u001b[0;34m,\u001b[0m \u001b[0mevalue\u001b[0m\u001b[0;34m,\u001b[0m \u001b[0;34m(\u001b[0m\u001b[0metb\u001b[0m\u001b[0;34m,\u001b[0m \u001b[0mchained_exc_ids\u001b[0m\u001b[0;34m)\u001b[0m\u001b[0;34m,\u001b[0m\u001b[0;34m\u001b[0m\u001b[0;34m\u001b[0m\u001b[0m\n\u001b[1;32m    631\u001b[0m                     chained_exceptions_tb_offset, context)\n",
      "\u001b[0;32m~/miniconda3/envs/test_env/lib/python3.9/site-packages/IPython/core/ultratb.py\u001b[0m in \u001b[0;36mstructured_traceback\u001b[0;34m(self, etype, value, tb, tb_offset, number_of_lines_of_context)\u001b[0m\n\u001b[1;32m   1365\u001b[0m         \u001b[0;32melse\u001b[0m\u001b[0;34m:\u001b[0m\u001b[0;34m\u001b[0m\u001b[0;34m\u001b[0m\u001b[0m\n\u001b[1;32m   1366\u001b[0m             \u001b[0mself\u001b[0m\u001b[0;34m.\u001b[0m\u001b[0mtb\u001b[0m \u001b[0;34m=\u001b[0m \u001b[0mtb\u001b[0m\u001b[0;34m\u001b[0m\u001b[0;34m\u001b[0m\u001b[0m\n\u001b[0;32m-> 1367\u001b[0;31m         return FormattedTB.structured_traceback(\n\u001b[0m\u001b[1;32m   1368\u001b[0m             self, etype, value, tb, tb_offset, number_of_lines_of_context)\n\u001b[1;32m   1369\u001b[0m \u001b[0;34m\u001b[0m\u001b[0m\n",
      "\u001b[0;32m~/miniconda3/envs/test_env/lib/python3.9/site-packages/IPython/core/ultratb.py\u001b[0m in \u001b[0;36mstructured_traceback\u001b[0;34m(self, etype, value, tb, tb_offset, number_of_lines_of_context)\u001b[0m\n\u001b[1;32m   1265\u001b[0m         \u001b[0;32mif\u001b[0m \u001b[0mmode\u001b[0m \u001b[0;32min\u001b[0m \u001b[0mself\u001b[0m\u001b[0;34m.\u001b[0m\u001b[0mverbose_modes\u001b[0m\u001b[0;34m:\u001b[0m\u001b[0;34m\u001b[0m\u001b[0;34m\u001b[0m\u001b[0m\n\u001b[1;32m   1266\u001b[0m             \u001b[0;31m# Verbose modes need a full traceback\u001b[0m\u001b[0;34m\u001b[0m\u001b[0;34m\u001b[0m\u001b[0m\n\u001b[0;32m-> 1267\u001b[0;31m             return VerboseTB.structured_traceback(\n\u001b[0m\u001b[1;32m   1268\u001b[0m                 \u001b[0mself\u001b[0m\u001b[0;34m,\u001b[0m \u001b[0metype\u001b[0m\u001b[0;34m,\u001b[0m \u001b[0mvalue\u001b[0m\u001b[0;34m,\u001b[0m \u001b[0mtb\u001b[0m\u001b[0;34m,\u001b[0m \u001b[0mtb_offset\u001b[0m\u001b[0;34m,\u001b[0m \u001b[0mnumber_of_lines_of_context\u001b[0m\u001b[0;34m\u001b[0m\u001b[0;34m\u001b[0m\u001b[0m\n\u001b[1;32m   1269\u001b[0m             )\n",
      "\u001b[0;32m~/miniconda3/envs/test_env/lib/python3.9/site-packages/IPython/core/ultratb.py\u001b[0m in \u001b[0;36mstructured_traceback\u001b[0;34m(self, etype, evalue, etb, tb_offset, number_of_lines_of_context)\u001b[0m\n\u001b[1;32m   1122\u001b[0m         \u001b[0;34m\"\"\"Return a nice text document describing the traceback.\"\"\"\u001b[0m\u001b[0;34m\u001b[0m\u001b[0;34m\u001b[0m\u001b[0m\n\u001b[1;32m   1123\u001b[0m \u001b[0;34m\u001b[0m\u001b[0m\n\u001b[0;32m-> 1124\u001b[0;31m         formatted_exception = self.format_exception_as_a_whole(etype, evalue, etb, number_of_lines_of_context,\n\u001b[0m\u001b[1;32m   1125\u001b[0m                                                                tb_offset)\n\u001b[1;32m   1126\u001b[0m \u001b[0;34m\u001b[0m\u001b[0m\n",
      "\u001b[0;32m~/miniconda3/envs/test_env/lib/python3.9/site-packages/IPython/core/ultratb.py\u001b[0m in \u001b[0;36mformat_exception_as_a_whole\u001b[0;34m(self, etype, evalue, etb, number_of_lines_of_context, tb_offset)\u001b[0m\n\u001b[1;32m   1080\u001b[0m \u001b[0;34m\u001b[0m\u001b[0m\n\u001b[1;32m   1081\u001b[0m \u001b[0;34m\u001b[0m\u001b[0m\n\u001b[0;32m-> 1082\u001b[0;31m         \u001b[0mlast_unique\u001b[0m\u001b[0;34m,\u001b[0m \u001b[0mrecursion_repeat\u001b[0m \u001b[0;34m=\u001b[0m \u001b[0mfind_recursion\u001b[0m\u001b[0;34m(\u001b[0m\u001b[0morig_etype\u001b[0m\u001b[0;34m,\u001b[0m \u001b[0mevalue\u001b[0m\u001b[0;34m,\u001b[0m \u001b[0mrecords\u001b[0m\u001b[0;34m)\u001b[0m\u001b[0;34m\u001b[0m\u001b[0;34m\u001b[0m\u001b[0m\n\u001b[0m\u001b[1;32m   1083\u001b[0m \u001b[0;34m\u001b[0m\u001b[0m\n\u001b[1;32m   1084\u001b[0m         \u001b[0mframes\u001b[0m \u001b[0;34m=\u001b[0m \u001b[0mself\u001b[0m\u001b[0;34m.\u001b[0m\u001b[0mformat_records\u001b[0m\u001b[0;34m(\u001b[0m\u001b[0mrecords\u001b[0m\u001b[0;34m,\u001b[0m \u001b[0mlast_unique\u001b[0m\u001b[0;34m,\u001b[0m \u001b[0mrecursion_repeat\u001b[0m\u001b[0;34m)\u001b[0m\u001b[0;34m\u001b[0m\u001b[0;34m\u001b[0m\u001b[0m\n",
      "\u001b[0;32m~/miniconda3/envs/test_env/lib/python3.9/site-packages/IPython/core/ultratb.py\u001b[0m in \u001b[0;36mfind_recursion\u001b[0;34m(etype, value, records)\u001b[0m\n\u001b[1;32m    380\u001b[0m     \u001b[0;31m# first frame (from in to out) that looks different.\u001b[0m\u001b[0;34m\u001b[0m\u001b[0;34m\u001b[0m\u001b[0m\n\u001b[1;32m    381\u001b[0m     \u001b[0;32mif\u001b[0m \u001b[0;32mnot\u001b[0m \u001b[0mis_recursion_error\u001b[0m\u001b[0;34m(\u001b[0m\u001b[0metype\u001b[0m\u001b[0;34m,\u001b[0m \u001b[0mvalue\u001b[0m\u001b[0;34m,\u001b[0m \u001b[0mrecords\u001b[0m\u001b[0;34m)\u001b[0m\u001b[0;34m:\u001b[0m\u001b[0;34m\u001b[0m\u001b[0;34m\u001b[0m\u001b[0m\n\u001b[0;32m--> 382\u001b[0;31m         \u001b[0;32mreturn\u001b[0m \u001b[0mlen\u001b[0m\u001b[0;34m(\u001b[0m\u001b[0mrecords\u001b[0m\u001b[0;34m)\u001b[0m\u001b[0;34m,\u001b[0m \u001b[0;36m0\u001b[0m\u001b[0;34m\u001b[0m\u001b[0;34m\u001b[0m\u001b[0m\n\u001b[0m\u001b[1;32m    383\u001b[0m \u001b[0;34m\u001b[0m\u001b[0m\n\u001b[1;32m    384\u001b[0m     \u001b[0;31m# Select filename, lineno, func_name to track frames with\u001b[0m\u001b[0;34m\u001b[0m\u001b[0;34m\u001b[0m\u001b[0m\n",
      "\u001b[0;31mTypeError\u001b[0m: object of type 'NoneType' has no len()"
     ]
    }
   ],
   "source": [
    "view(AseAtomsAdaptor().get_atoms(cry_gui2pmg(Crystal_gui().read_cry_gui('./isa/MnO_super.out'))))"
   ]
  },
  {
   "cell_type": "code",
   "execution_count": 78,
   "id": "0cb2b792",
   "metadata": {},
   "outputs": [
    {
     "data": {
      "text/plain": [
       "<Popen: returncode: None args: ['/Users/brunocamino/miniconda3/envs/test_env...>"
      ]
     },
     "execution_count": 78,
     "metadata": {},
     "output_type": "execute_result"
    },
    {
     "name": "stderr",
     "output_type": "stream",
     "text": [
      "<frozen importlib._bootstrap>:228: RuntimeWarning: scipy._lib.messagestream.MessageStream size changed, may indicate binary incompatibility. Expected 56 from C header, got 64 from PyObject\n"
     ]
    }
   ],
   "source": [
    "view(AseAtomsAdaptor().get_atoms(cry_out2pmg(Crystal_output().read_cry_output('./isa/MnO_super.out'))))"
   ]
  },
  {
   "cell_type": "code",
   "execution_count": 93,
   "id": "6ce6e584",
   "metadata": {},
   "outputs": [],
   "source": [
    "mno_prim = Structure([[0.0, 2.657557960000818, 2.657557960000818],\n",
    "                      [2.657557960000818, 0.0, 2.657557960000818],\n",
    "                      [2.657557960000818, 2.657557960000818, 0.0]],\n",
    "                     ['Mn','O'],[[0.,0.,0.],[.5,.5,.5]])\n",
    "mno_conv = SpacegroupAnalyzer(mno_prim).get_conventional_standard_structure()\n",
    "mno_conv.replace(0,1)\n",
    "mno_conv.replace(2,1)\n",
    "mno_prim_symm = SpacegroupAnalyzer(mno_conv).get_primitive_standard_structure()\n",
    "#a = np.array(mno_prim_symm.equivalent_indices)[:,1:].flatten()\n",
    "#mno_prim_symm.replace(1,25)\n",
    "mno_prim_symm.make_supercell(np.identity(3)*2)\n",
    "write_crystal_gui('mno_super_symm.gui',cry_pmg2gui(mno_prim_symm))"
   ]
  },
  {
   "cell_type": "code",
   "execution_count": 70,
   "id": "f68555cc",
   "metadata": {},
   "outputs": [
    {
     "data": {
      "text/plain": [
       "SymmetrizedStructure\n",
       "Full Formula (Mn8 H8 O16)\n",
       "Reduced Formula: MnHO2\n",
       "Spacegroup: P4/mmm (123)\n",
       "abc   :   5.963739   5.963739   8.434000\n",
       "angles:  90.000000  90.000000  90.000000\n",
       "Sites (32)\n",
       "  #  SP       a     b     c  Wyckoff\n",
       "---  ----  ----  ----  ----  ---------\n",
       "  0  Mn    0.25  0.25  0.25  8d\n",
       "  1  H     0     0     0     8a\n",
       "  2  O     0.25  0.25  0     8c\n",
       "  3  O     0     0     0.25  8b"
      ]
     },
     "execution_count": 70,
     "metadata": {},
     "output_type": "execute_result"
    }
   ],
   "source": [
    "SpacegroupAnalyzer(mno_prim_symm).get_symmetrized_structure()"
   ]
  },
  {
   "cell_type": "code",
   "execution_count": 84,
   "id": "74ad690b",
   "metadata": {},
   "outputs": [],
   "source": [
    "mno_conv = SpacegroupAnalyzer(mno_prim).get_primitive_standard_structure()"
   ]
  },
  {
   "cell_type": "code",
   "execution_count": 85,
   "id": "7261411c",
   "metadata": {},
   "outputs": [
    {
     "data": {
      "text/plain": [
       "Structure Summary\n",
       "Lattice\n",
       "    abc : 2.9818692962636706 2.9818692962636706 2.9818692962636706\n",
       " angles : 59.99999999999999 59.99999999999999 59.99999999999999\n",
       " volume : 18.747821578249994\n",
       "      A : -1.2910838880010971e-16 2.1085 2.1085\n",
       "      B : 2.1085 0.0 2.1085\n",
       "      C : 2.1085 2.1085 2.5821677760021943e-16\n",
       "PeriodicSite: Mn (0.0000, 0.0000, 0.0000) [0.0000, 0.0000, 0.0000]\n",
       "PeriodicSite: O (2.1085, 2.1085, 2.1085) [0.5000, 0.5000, 0.5000]"
      ]
     },
     "execution_count": 85,
     "metadata": {},
     "output_type": "execute_result"
    }
   ],
   "source": [
    "mno_conv"
   ]
  },
  {
   "cell_type": "code",
   "execution_count": 8,
   "id": "722b3d3d",
   "metadata": {},
   "outputs": [
    {
     "data": {
      "text/plain": [
       "192"
      ]
     },
     "execution_count": 8,
     "metadata": {},
     "output_type": "execute_result"
    }
   ],
   "source": [
    "phonopy_gui = Crystal_gui().read_cry_gui('./aurora/phonons/supercell-001.gui')\n",
    "len(SpacegroupAnalyzer(cry_gui2pmg(phonopy_gui)).get_symmetry_operations())"
   ]
  },
  {
   "cell_type": "code",
   "execution_count": null,
   "id": "535477bf",
   "metadata": {},
   "outputs": [],
   "source": []
  },
  {
   "cell_type": "code",
   "execution_count": 9,
   "id": "904711af",
   "metadata": {},
   "outputs": [],
   "source": [
    "write_crystal_gui('./aurora/phonons/supercell-001.gui',cry_pmg2gui(cry_gui2pmg(phonopy_gui)))"
   ]
  },
  {
   "cell_type": "code",
   "execution_count": 20,
   "id": "f07856d3",
   "metadata": {},
   "outputs": [
    {
     "data": {
      "text/plain": [
       "1.6899"
      ]
     },
     "execution_count": 20,
     "metadata": {},
     "output_type": "execute_result"
    }
   ],
   "source": [
    "aurora_out = Crystal_output().read_cry_output('./aurora/02_LDA/02_GEOM_OPT_LDA/GaP.out')\n",
    "aurora_out.get_band_gap()"
   ]
  },
  {
   "cell_type": "code",
   "execution_count": 22,
   "id": "6e1122cf",
   "metadata": {},
   "outputs": [
    {
     "data": {
      "text/plain": [
       "1.7288"
      ]
     },
     "execution_count": 22,
     "metadata": {},
     "output_type": "execute_result"
    }
   ],
   "source": [
    "aurora_out = Crystal_output().read_cry_output('./aurora/03_GaP_Crystal/GGA/Optimisation/GaP_GEOMETRY_OPT.out')\n",
    "aurora_out.get_band_gap()"
   ]
  },
  {
   "cell_type": "code",
   "execution_count": 15,
   "id": "77d35f4d",
   "metadata": {
    "scrolled": false
   },
   "outputs": [
    {
     "data": {
      "text/plain": [
       "Structure Summary\n",
       "Lattice\n",
       "    abc : 3.833386195705131 3.833386195705131 3.8333861957051303\n",
       " angles : 119.99999999999999 119.99999999999999 90.0\n",
       " volume : 39.83205619303444\n",
       "      A : -1.9166930978525656 1.9166930978525654 2.71061337389\n",
       "      B : 1.9166930978525656 -1.9166930978525654 2.71061337389\n",
       "      C : 1.9166930978525651 1.9166930978525654 -2.7106133738899993\n",
       "PeriodicSite: Ga (0.0000, 0.0000, 0.0000) [0.0000, 0.0000, 0.0000]\n",
       "PeriodicSite: P (0.0000, -0.0000, 4.0659) [0.7500, 0.7500, 0.0000]"
      ]
     },
     "execution_count": 15,
     "metadata": {},
     "output_type": "execute_result"
    }
   ],
   "source": [
    "SpacegroupAnalyzer(cry_out2pmg(aurora_out)).get_primitive_standard_structure()"
   ]
  },
  {
   "cell_type": "code",
   "execution_count": 17,
   "id": "1a0baa36",
   "metadata": {},
   "outputs": [
    {
     "data": {
      "text/plain": [
       "3.0434"
      ]
     },
     "execution_count": 17,
     "metadata": {},
     "output_type": "execute_result"
    }
   ],
   "source": [
    "aurora_out = Crystal_output().read_cry_output('./aurora/03_GaP_Crystal/Hybrid/01_Opti/GaP_GEOMETRY_OPT.out')\n",
    "aurora_out.get_band_gap()"
   ]
  },
  {
   "cell_type": "code",
   "execution_count": 12,
   "id": "2c311693",
   "metadata": {},
   "outputs": [
    {
     "data": {
      "text/plain": [
       "-61620.78437587766"
      ]
     },
     "execution_count": 12,
     "metadata": {},
     "output_type": "execute_result"
    }
   ],
   "source": [
    "aurora_out.get_final_energy()"
   ]
  },
  {
   "cell_type": "code",
   "execution_count": 13,
   "id": "7e77fe59",
   "metadata": {
    "scrolled": false
   },
   "outputs": [
    {
     "data": {
      "text/plain": [
       "Structure Summary\n",
       "Lattice\n",
       "    abc : 3.833386195705131 3.833386195705131 3.8333861957051303\n",
       " angles : 119.99999999999999 119.99999999999999 90.0\n",
       " volume : 39.83205619303444\n",
       "      A : -1.9166930978525656 1.9166930978525654 2.71061337389\n",
       "      B : 1.9166930978525656 -1.9166930978525654 2.71061337389\n",
       "      C : 1.9166930978525651 1.9166930978525654 -2.7106133738899993\n",
       "PeriodicSite: Ga (0.0000, 0.0000, 0.0000) [0.0000, 0.0000, 0.0000]\n",
       "PeriodicSite: P (0.0000, -0.0000, 4.0659) [0.7500, 0.7500, 0.0000]"
      ]
     },
     "execution_count": 13,
     "metadata": {},
     "output_type": "execute_result"
    }
   ],
   "source": [
    "SpacegroupAnalyzer(cry_out2pmg(aurora_out)).get_primitive_standard_structure()"
   ]
  },
  {
   "cell_type": "code",
   "execution_count": 25,
   "id": "444c315b",
   "metadata": {},
   "outputs": [
    {
     "ename": "TypeError",
     "evalue": "make_bands_block() missing 4 required positional arguments: 'k_path', 'n_kpoints', 'first_band', and 'last_band'",
     "output_type": "error",
     "traceback": [
      "\u001b[0;31m---------------------------------------------------------------------------\u001b[0m",
      "\u001b[0;31mTypeError\u001b[0m                                 Traceback (most recent call last)",
      "\u001b[0;32m/var/folders/f2/8kc7y9697m59bwltxjd42y300000gn/T/ipykernel_5757/2312451927.py\u001b[0m in \u001b[0;36m<module>\u001b[0;34m\u001b[0m\n\u001b[0;32m----> 1\u001b[0;31m \u001b[0mcry_bands\u001b[0m \u001b[0;34m=\u001b[0m \u001b[0mProperties_input\u001b[0m\u001b[0;34m(\u001b[0m\u001b[0;34m)\u001b[0m\u001b[0;34m.\u001b[0m\u001b[0mmake_bands_block\u001b[0m\u001b[0;34m(\u001b[0m\u001b[0;34m)\u001b[0m\u001b[0;34m\u001b[0m\u001b[0;34m\u001b[0m\u001b[0m\n\u001b[0m",
      "\u001b[0;31mTypeError\u001b[0m: make_bands_block() missing 4 required positional arguments: 'k_path', 'n_kpoints', 'first_band', and 'last_band'"
     ]
    }
   ],
   "source": [
    "cry_bands = Properties_input().make_bands_block()"
   ]
  },
  {
   "cell_type": "code",
   "execution_count": 26,
   "id": "8e17901e",
   "metadata": {},
   "outputs": [],
   "source": [
    "from pymatgen.symmetry.bandstructure import HighSymmKpath\n",
    "from pymatgen.symmetry.analyzer import SpacegroupAnalyzer\n",
    "\n",
    "from crystal_functions.file_readwrite import write_properties_input\n",
    "from crystal_functions.file_readwrite import Crystal_output\n",
    "from crystal_functions.file_readwrite import Properties_input\n",
    "from crystal_functions.convert import cry_out2pmg\n",
    "\n",
    "\n",
    "#Create the bands input object\n",
    "bands_input = Properties_input()\n",
    "#Add the newk block to the input object\n",
    "bands_input.make_newk_block(12,24)\n",
    "\n",
    "#Read the structure\n",
    "mgo = Crystal_output().read_cry_output('aurora/GaP.out')\n",
    "mgo = cry_out2pmg(mgo)\n",
    "mgo_prim = SpacegroupAnalyzer(mgo).get_primitive_standard_structure(international_monoclinic=False)\n",
    "\n",
    "#Obtain the k path object\n",
    "k_path = HighSymmKpath(mgo_prim)\n",
    "\n",
    "n_kpoints = 200\n",
    "first_band = 1\n",
    "last_band = 26\n",
    "bands_input.make_bands_block(k_path,n_kpoints,first_band,last_band)\n",
    "\n",
    "#Write the input\n",
    "write_properties_input('aurora/GaP.d3',bands_input)"
   ]
  }
 ],
 "metadata": {
  "kernelspec": {
   "display_name": "Python 3 (ipykernel)",
   "language": "python",
   "name": "python3"
  },
  "language_info": {
   "codemirror_mode": {
    "name": "ipython",
    "version": 3
   },
   "file_extension": ".py",
   "mimetype": "text/x-python",
   "name": "python",
   "nbconvert_exporter": "python",
   "pygments_lexer": "ipython3",
   "version": "3.9.10"
  }
 },
 "nbformat": 4,
 "nbformat_minor": 5
}
